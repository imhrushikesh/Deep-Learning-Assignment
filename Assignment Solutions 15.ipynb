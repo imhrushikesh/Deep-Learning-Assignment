{
 "cells": [
  {
   "cell_type": "markdown",
   "id": "a5b9af50-87f1-4d6e-a6e9-b8f429caa5fa",
   "metadata": {},
   "source": [
    "# Assignment 15 Solution\n",
    "\n",
    "**1. Deep Learning.**\n",
    "\n",
    "**a. Build a DNN with five hidden layers of 100 neurons each, He initialization, and the ELU activation function.**\n",
    "\n",
    "**b. Using Adam optimization and early stopping, try training it on MNIST but only on digits 0 to 4, as we will use transfer learning for digits 5 to 9 in the next exercise. You will need a softmax output layer with five neurons, and as always make sure to save checkpoints at regular intervals and save the final model so you can reuse it later.**\n",
    "\n",
    "**c. Tune the hyperparameters using cross-validation and see what precision you can achieve.**\n",
    "\n",
    "**d. Now try adding Batch Normalization and compare the learning curves: is it converging faster than before? Does it produce a better model?**\n",
    "\n",
    "**e. Is the model overfitting the training set? Try adding dropout to every layer and try again. Does it help?**\n",
    "\n",
    "**Ans: a. Build a DNN with five hidden layers of 100 neurons each, He initialization, and the ELU activation function.**"
   ]
  },
  {
   "cell_type": "code",
   "execution_count": 4,
   "id": "52080cd1-a478-4483-bbd0-1ef8b1f058f0",
   "metadata": {},
   "outputs": [],
   "source": [
    "import tensorflow as tf\n",
    "from functools import partial"
   ]
  },
  {
   "cell_type": "code",
   "execution_count": 5,
   "id": "9e6a1847-9832-4362-a335-b21928a0320f",
   "metadata": {},
   "outputs": [],
   "source": [
    "# Define the number of inputs and outputs\n",
    "n_inputs = 28 * 28 # MNIST\n",
    "n_outputs = 10"
   ]
  },
  {
   "cell_type": "code",
   "execution_count": 6,
   "id": "fe44109c-0e81-4a16-bc2f-768ea760683d",
   "metadata": {},
   "outputs": [],
   "source": [
    "# Define the number of neurons in each hidden layer\n",
    "n_hidden1 = 100\n",
    "n_hidden2 = 100\n",
    "n_hidden3 = 100\n",
    "n_hidden4 = 100\n",
    "n_hidden5 = 100"
   ]
  },
  {
   "cell_type": "code",
   "execution_count": 7,
   "id": "728ddc4f-b7c4-4f4c-9049-362fdf63145c",
   "metadata": {},
   "outputs": [],
   "source": [
    "# Define the initializer and activation function to use\n",
    "he_init = tf.keras.initializers.VarianceScaling(scale=2., mode='fan_avg', distribution='uniform')\n",
    "elu_activation = tf.keras.activations.elu"
   ]
  },
  {
   "cell_type": "code",
   "execution_count": 8,
   "id": "db09a435-448a-40c0-a680-87cba9925f05",
   "metadata": {},
   "outputs": [
    {
     "name": "stderr",
     "output_type": "stream",
     "text": [
      "C:\\Users\\hrush\\AppData\\Local\\Programs\\Python\\Python310\\lib\\site-packages\\keras\\initializers\\initializers_v2.py:120: UserWarning: The initializer VarianceScaling is unseeded and being called multiple times, which will return identical values  each time (even if the initializer is unseeded). Please update your code to provide a seed to the initializer, or avoid using the same initalizer instance more than once.\n",
      "  warnings.warn(\n"
     ]
    }
   ],
   "source": [
    "# Create the model using the Sequential API\n",
    "model = tf.keras.models.Sequential([\n",
    "    tf.keras.layers.Flatten(input_shape=[28, 28]), # Flatten the input data\n",
    "    tf.keras.layers.Dense(n_hidden1, activation=elu_activation, kernel_initializer=he_init), # First hidden layer\n",
    "    tf.keras.layers.Dense(n_hidden2, activation=elu_activation, kernel_initializer=he_init), # Second hidden layer\n",
    "    tf.keras.layers.Dense(n_hidden3, activation=elu_activation, kernel_initializer=he_init), # Third hidden layer\n",
    "    tf.keras.layers.Dense(n_hidden4, activation=elu_activation, kernel_initializer=he_init), # Fourth hidden layer\n",
    "    tf.keras.layers.Dense(n_hidden5, activation=elu_activation, kernel_initializer=he_init), # Fifth hidden layer\n",
    "    tf.keras.layers.Dense(n_outputs) # Output layer\n",
    "])"
   ]
  },
  {
   "cell_type": "markdown",
   "id": "df4e2b84-aeb5-42b1-aabc-9378d52a2ed5",
   "metadata": {},
   "source": [
    "**b. Using Adam optimization and early stopping, try training it on MNIST but only on digits 0 to 4, as we will use transfer learning for digits 5 to 9 in the next exercise. You will need a softmax output layer with five neurons, and as always make sure to save checkpoints at regular intervals and save the final model so you can reuse it later.**\n",
    "\n",
    "**Ans:**"
   ]
  },
  {
   "cell_type": "code",
   "execution_count": 10,
   "id": "cd592e0b-0237-4ea6-9acb-8c330635a95d",
   "metadata": {},
   "outputs": [],
   "source": [
    "from tensorflow import keras\n",
    "import numpy as np"
   ]
  },
  {
   "cell_type": "code",
   "execution_count": 11,
   "id": "5f6ccda2-963d-4be3-9f00-b2b96befce71",
   "metadata": {},
   "outputs": [],
   "source": [
    "# Load MNIST dataset\n",
    "(X_train_full, y_train_full), (X_test, y_test) = keras.datasets.mnist.load_data()"
   ]
  },
  {
   "cell_type": "code",
   "execution_count": 12,
   "id": "2da9145a-60e8-4975-af80-89821299929c",
   "metadata": {},
   "outputs": [],
   "source": [
    "# Scale the data\n",
    "X_train_full = X_train_full / 255.0\n",
    "X_test = X_test / 255.0"
   ]
  },
  {
   "cell_type": "code",
   "execution_count": 13,
   "id": "199d808c-4ed1-4bfc-93b1-062a65feeef1",
   "metadata": {},
   "outputs": [],
   "source": [
    "# Create a validation set and training set\n",
    "X_valid, X_train = X_train_full[:5000], X_train_full[5000:]\n",
    "y_valid, y_train = y_train_full[:5000], y_train_full[5000:]"
   ]
  },
  {
   "cell_type": "code",
   "execution_count": 14,
   "id": "80f1fddc-58e4-463f-94fe-aedb2172bca2",
   "metadata": {},
   "outputs": [],
   "source": [
    "# Only keep digits 0 to 4 in the training and validation sets\n",
    "X_train = X_train[y_train < 5]\n",
    "y_train = y_train[y_train < 5]\n",
    "X_valid = X_valid[y_valid < 5]\n",
    "y_valid = y_valid[y_valid < 5]"
   ]
  },
  {
   "cell_type": "code",
   "execution_count": 15,
   "id": "d52eb279-0167-4deb-be93-8743238334c3",
   "metadata": {},
   "outputs": [],
   "source": [
    "# Build the model\n",
    "model = keras.models.Sequential([\n",
    "    keras.layers.Flatten(input_shape=[28, 28]),\n",
    "    keras.layers.Dense(300, activation=\"relu\"),\n",
    "    keras.layers.Dense(100, activation=\"relu\"),\n",
    "    keras.layers.Dense(5, activation=\"softmax\")\n",
    "])"
   ]
  },
  {
   "cell_type": "code",
   "execution_count": 16,
   "id": "81ae70f9-32e2-445a-9040-15e8d4cd07ae",
   "metadata": {},
   "outputs": [],
   "source": [
    "# Compile the model\n",
    "model.compile(loss=\"sparse_categorical_crossentropy\",\n",
    "              optimizer=\"adam\",\n",
    "              metrics=[\"accuracy\"])"
   ]
  },
  {
   "cell_type": "code",
   "execution_count": 17,
   "id": "3fad9456-c600-46f8-9ddf-2edfd0b1219f",
   "metadata": {},
   "outputs": [],
   "source": [
    "# Define early stopping\n",
    "early_stopping_cb = keras.callbacks.EarlyStopping(patience=10,\n",
    "                                                  restore_best_weights=True)"
   ]
  },
  {
   "cell_type": "code",
   "execution_count": 18,
   "id": "541d950e-fe5a-4d8d-b8ae-8e852cd7c73b",
   "metadata": {},
   "outputs": [
    {
     "name": "stdout",
     "output_type": "stream",
     "text": [
      "Epoch 1/30\n",
      "877/877 [==============================] - 4s 3ms/step - loss: 0.0969 - accuracy: 0.9705 - val_loss: 0.0434 - val_accuracy: 0.9859\n",
      "Epoch 2/30\n",
      "877/877 [==============================] - 2s 3ms/step - loss: 0.0348 - accuracy: 0.9892 - val_loss: 0.0411 - val_accuracy: 0.9867\n",
      "Epoch 3/30\n",
      "877/877 [==============================] - 2s 3ms/step - loss: 0.0223 - accuracy: 0.9928 - val_loss: 0.0315 - val_accuracy: 0.9910\n",
      "Epoch 4/30\n",
      "877/877 [==============================] - 2s 3ms/step - loss: 0.0136 - accuracy: 0.9955 - val_loss: 0.0347 - val_accuracy: 0.9898\n",
      "Epoch 5/30\n",
      "877/877 [==============================] - 2s 3ms/step - loss: 0.0115 - accuracy: 0.9962 - val_loss: 0.0280 - val_accuracy: 0.9910\n",
      "Epoch 6/30\n",
      "877/877 [==============================] - 2s 3ms/step - loss: 0.0100 - accuracy: 0.9969 - val_loss: 0.0262 - val_accuracy: 0.9922\n",
      "Epoch 7/30\n",
      "877/877 [==============================] - 2s 3ms/step - loss: 0.0081 - accuracy: 0.9973 - val_loss: 0.0258 - val_accuracy: 0.9930\n",
      "Epoch 8/30\n",
      "877/877 [==============================] - 2s 3ms/step - loss: 0.0054 - accuracy: 0.9983 - val_loss: 0.0919 - val_accuracy: 0.9855\n",
      "Epoch 9/30\n",
      "877/877 [==============================] - 3s 3ms/step - loss: 0.0102 - accuracy: 0.9970 - val_loss: 0.0334 - val_accuracy: 0.9910\n",
      "Epoch 10/30\n",
      "877/877 [==============================] - 2s 3ms/step - loss: 0.0074 - accuracy: 0.9977 - val_loss: 0.0524 - val_accuracy: 0.9875\n",
      "Epoch 11/30\n",
      "877/877 [==============================] - 3s 3ms/step - loss: 0.0054 - accuracy: 0.9981 - val_loss: 0.0274 - val_accuracy: 0.9934\n",
      "Epoch 12/30\n",
      "877/877 [==============================] - 2s 3ms/step - loss: 0.0012 - accuracy: 0.9996 - val_loss: 0.0314 - val_accuracy: 0.9930\n",
      "Epoch 13/30\n",
      "877/877 [==============================] - 3s 3ms/step - loss: 0.0061 - accuracy: 0.9985 - val_loss: 0.0426 - val_accuracy: 0.9918\n",
      "Epoch 14/30\n",
      "877/877 [==============================] - 2s 3ms/step - loss: 0.0029 - accuracy: 0.9992 - val_loss: 0.0561 - val_accuracy: 0.9887\n",
      "Epoch 15/30\n",
      "877/877 [==============================] - 2s 3ms/step - loss: 0.0073 - accuracy: 0.9980 - val_loss: 0.0397 - val_accuracy: 0.9914\n",
      "Epoch 16/30\n",
      "877/877 [==============================] - 3s 3ms/step - loss: 0.0024 - accuracy: 0.9993 - val_loss: 0.0337 - val_accuracy: 0.9945\n",
      "Epoch 17/30\n",
      "877/877 [==============================] - 3s 3ms/step - loss: 0.0022 - accuracy: 0.9993 - val_loss: 0.0437 - val_accuracy: 0.9906\n"
     ]
    }
   ],
   "source": [
    "# Train the model\n",
    "history = model.fit(X_train, y_train, epochs=30,\n",
    "                    validation_data=(X_valid, y_valid),\n",
    "                    callbacks=[early_stopping_cb])"
   ]
  },
  {
   "cell_type": "code",
   "execution_count": 19,
   "id": "59875d7a-0bd9-4c0e-85ac-0c175903ba6c",
   "metadata": {},
   "outputs": [],
   "source": [
    "# Save the final model\n",
    "model.save(\"my_mnist_model.h5\")"
   ]
  },
  {
   "cell_type": "markdown",
   "id": "62db1f26-f991-42e6-a82b-fd1a81a0e597",
   "metadata": {},
   "source": [
    "**c. Tune the hyperparameters using cross-validation and see what precision you can achieve.**\n",
    "\n",
    "**Ans:**"
   ]
  },
  {
   "cell_type": "code",
   "execution_count": 20,
   "id": "67de26e7-2a0a-42ec-b204-7062df1bb383",
   "metadata": {},
   "outputs": [],
   "source": [
    "from tensorflow import keras\n",
    "from sklearn.model_selection import GridSearchCV\n",
    "from sklearn.metrics import precision_score, make_scorer\n",
    "import numpy as np"
   ]
  },
  {
   "cell_type": "code",
   "execution_count": 21,
   "id": "8f7d4fde-50a1-4c7b-a862-80ad482d5898",
   "metadata": {},
   "outputs": [],
   "source": [
    "# Load MNIST dataset\n",
    "(X_train_full, y_train_full), (X_test, y_test) = keras.datasets.mnist.load_data()"
   ]
  },
  {
   "cell_type": "code",
   "execution_count": 22,
   "id": "806543ca-61bc-46d4-bddc-7daf523b515a",
   "metadata": {},
   "outputs": [],
   "source": [
    "# Scale the data\n",
    "X_train_full = X_train_full / 255.0\n",
    "X_test = X_test / 255.0"
   ]
  },
  {
   "cell_type": "code",
   "execution_count": 23,
   "id": "77964ace-3089-4d9d-8641-4c7f0c6555a7",
   "metadata": {},
   "outputs": [],
   "source": [
    "# Create a validation set and training set\n",
    "X_valid, X_train = X_train_full[:5000], X_train_full[5000:]\n",
    "y_valid, y_train = y_train_full[:5000], y_train_full[5000:]"
   ]
  },
  {
   "cell_type": "code",
   "execution_count": 24,
   "id": "412f1734-5140-4aba-a25c-36feaf8f2e97",
   "metadata": {},
   "outputs": [],
   "source": [
    "# Only keep digits 0 to 4 in the training and validation sets\n",
    "X_train = X_train[y_train < 5]\n",
    "y_train = y_train[y_train < 5]\n",
    "X_valid = X_valid[y_valid < 5]\n",
    "y_valid = y_valid[y_valid < 5]"
   ]
  },
  {
   "cell_type": "code",
   "execution_count": 25,
   "id": "2fc1adcd-d377-41ff-828d-be932648b7cf",
   "metadata": {},
   "outputs": [],
   "source": [
    "# Build a function to create the model\n",
    "def build_model(n_hidden=1, n_neurons=30, learning_rate=3e-3):\n",
    "    model = keras.models.Sequential()\n",
    "    model.add(keras.layers.Flatten(input_shape=[28, 28]))\n",
    "    for layer in range(n_hidden):\n",
    "        model.add(keras.layers.Dense(n_neurons, activation=\"relu\"))\n",
    "    model.add(keras.layers.Dense(5, activation=\"softmax\"))\n",
    "    optimizer = keras.optimizers.Adam(lr=learning_rate)\n",
    "    model.compile(loss=\"sparse_categorical_crossentropy\", optimizer=optimizer,\n",
    "                  metrics=[\"accuracy\"])\n",
    "    return model"
   ]
  },
  {
   "cell_type": "code",
   "execution_count": 26,
   "id": "010a4213-4ccb-4b1b-87b9-1d7c9732b355",
   "metadata": {},
   "outputs": [
    {
     "name": "stderr",
     "output_type": "stream",
     "text": [
      "C:\\Users\\hrush\\AppData\\Local\\Temp\\ipykernel_3096\\3906373099.py:2: DeprecationWarning: KerasClassifier is deprecated, use Sci-Keras (https://github.com/adriangb/scikeras) instead. See https://www.adriangb.com/scikeras/stable/migration.html for help migrating.\n",
      "  keras_clf = keras.wrappers.scikit_learn.KerasClassifier(build_model)\n"
     ]
    }
   ],
   "source": [
    "# Create a KerasClassifier object\n",
    "keras_clf = keras.wrappers.scikit_learn.KerasClassifier(build_model)"
   ]
  },
  {
   "cell_type": "code",
   "execution_count": 27,
   "id": "18d67b14-518e-4cf2-8006-6f296aadb8cf",
   "metadata": {},
   "outputs": [],
   "source": [
    "# Define the hyperparameters to search over\n",
    "param_grid = {\n",
    "    \"n_hidden\": [1, 2],\n",
    "    \"n_neurons\": [10, 30],\n",
    "    \"learning_rate\": [3e-4, 3e-3]\n",
    "}"
   ]
  },
  {
   "cell_type": "code",
   "execution_count": 28,
   "id": "5f3c5c63-4681-4d8b-a997-dd61f19c0f87",
   "metadata": {},
   "outputs": [],
   "source": [
    "# Create a GridSearchCV object\n",
    "grid_search_cv = GridSearchCV(keras_clf, param_grid,\n",
    "                              cv=3,\n",
    "                              scoring=make_scorer(precision_score,\n",
    "                                                  average='weighted'))"
   ]
  },
  {
   "cell_type": "code",
   "execution_count": 29,
   "id": "5d1f894a-7491-4212-8c5f-0ff51e63a3ef",
   "metadata": {},
   "outputs": [
    {
     "name": "stderr",
     "output_type": "stream",
     "text": [
      "WARNING:absl:`lr` is deprecated, please use `learning_rate` instead, or use the legacy optimizer, e.g.,tf.keras.optimizers.legacy.Adam.\n"
     ]
    },
    {
     "name": "stdout",
     "output_type": "stream",
     "text": [
      "585/585 [==============================] - 2s 2ms/step - loss: 0.2501 - accuracy: 0.9363 - val_loss: 0.1201 - val_accuracy: 0.9683\n",
      "293/293 [==============================] - 1s 1ms/step\n"
     ]
    },
    {
     "name": "stderr",
     "output_type": "stream",
     "text": [
      "WARNING:absl:`lr` is deprecated, please use `learning_rate` instead, or use the legacy optimizer, e.g.,tf.keras.optimizers.legacy.Adam.\n"
     ]
    },
    {
     "name": "stdout",
     "output_type": "stream",
     "text": [
      "585/585 [==============================] - 2s 2ms/step - loss: 0.3071 - accuracy: 0.9149 - val_loss: 0.1210 - val_accuracy: 0.9644\n",
      "293/293 [==============================] - 0s 975us/step\n"
     ]
    },
    {
     "name": "stderr",
     "output_type": "stream",
     "text": [
      "WARNING:absl:`lr` is deprecated, please use `learning_rate` instead, or use the legacy optimizer, e.g.,tf.keras.optimizers.legacy.Adam.\n"
     ]
    },
    {
     "name": "stdout",
     "output_type": "stream",
     "text": [
      "585/585 [==============================] - 2s 2ms/step - loss: 0.3081 - accuracy: 0.9223 - val_loss: 0.1249 - val_accuracy: 0.9672\n",
      "293/293 [==============================] - 0s 982us/step\n"
     ]
    },
    {
     "name": "stderr",
     "output_type": "stream",
     "text": [
      "WARNING:absl:`lr` is deprecated, please use `learning_rate` instead, or use the legacy optimizer, e.g.,tf.keras.optimizers.legacy.Adam.\n"
     ]
    },
    {
     "name": "stdout",
     "output_type": "stream",
     "text": [
      "585/585 [==============================] - 2s 2ms/step - loss: 0.1887 - accuracy: 0.9469 - val_loss: 0.0943 - val_accuracy: 0.9722\n",
      "293/293 [==============================] - 0s 1ms/step\n"
     ]
    },
    {
     "name": "stderr",
     "output_type": "stream",
     "text": [
      "WARNING:absl:`lr` is deprecated, please use `learning_rate` instead, or use the legacy optimizer, e.g.,tf.keras.optimizers.legacy.Adam.\n"
     ]
    },
    {
     "name": "stdout",
     "output_type": "stream",
     "text": [
      "585/585 [==============================] - 2s 2ms/step - loss: 0.1851 - accuracy: 0.9485 - val_loss: 0.1149 - val_accuracy: 0.9636\n",
      "293/293 [==============================] - 0s 1ms/step\n"
     ]
    },
    {
     "name": "stderr",
     "output_type": "stream",
     "text": [
      "WARNING:absl:`lr` is deprecated, please use `learning_rate` instead, or use the legacy optimizer, e.g.,tf.keras.optimizers.legacy.Adam.\n"
     ]
    },
    {
     "name": "stdout",
     "output_type": "stream",
     "text": [
      "585/585 [==============================] - 2s 2ms/step - loss: 0.2001 - accuracy: 0.9438 - val_loss: 0.1050 - val_accuracy: 0.9695\n",
      "293/293 [==============================] - 0s 1ms/step\n"
     ]
    },
    {
     "name": "stderr",
     "output_type": "stream",
     "text": [
      "WARNING:absl:`lr` is deprecated, please use `learning_rate` instead, or use the legacy optimizer, e.g.,tf.keras.optimizers.legacy.Adam.\n"
     ]
    },
    {
     "name": "stdout",
     "output_type": "stream",
     "text": [
      "585/585 [==============================] - 2s 2ms/step - loss: 0.3831 - accuracy: 0.8724 - val_loss: 0.1122 - val_accuracy: 0.9703\n",
      "293/293 [==============================] - 0s 1ms/step\n"
     ]
    },
    {
     "name": "stderr",
     "output_type": "stream",
     "text": [
      "WARNING:absl:`lr` is deprecated, please use `learning_rate` instead, or use the legacy optimizer, e.g.,tf.keras.optimizers.legacy.Adam.\n"
     ]
    },
    {
     "name": "stdout",
     "output_type": "stream",
     "text": [
      "585/585 [==============================] - 2s 2ms/step - loss: 0.2923 - accuracy: 0.8979 - val_loss: 0.1143 - val_accuracy: 0.9672\n",
      "293/293 [==============================] - 0s 1ms/step\n"
     ]
    },
    {
     "name": "stderr",
     "output_type": "stream",
     "text": [
      "WARNING:absl:`lr` is deprecated, please use `learning_rate` instead, or use the legacy optimizer, e.g.,tf.keras.optimizers.legacy.Adam.\n"
     ]
    },
    {
     "name": "stdout",
     "output_type": "stream",
     "text": [
      "585/585 [==============================] - 2s 2ms/step - loss: 0.3431 - accuracy: 0.8980 - val_loss: 0.1223 - val_accuracy: 0.9660\n",
      "293/293 [==============================] - 0s 782us/step\n"
     ]
    },
    {
     "name": "stderr",
     "output_type": "stream",
     "text": [
      "WARNING:absl:`lr` is deprecated, please use `learning_rate` instead, or use the legacy optimizer, e.g.,tf.keras.optimizers.legacy.Adam.\n"
     ]
    },
    {
     "name": "stdout",
     "output_type": "stream",
     "text": [
      "585/585 [==============================] - 1s 1ms/step - loss: 0.2028 - accuracy: 0.9429 - val_loss: 0.0892 - val_accuracy: 0.9738\n",
      "293/293 [==============================] - 0s 756us/step\n"
     ]
    },
    {
     "name": "stderr",
     "output_type": "stream",
     "text": [
      "WARNING:absl:`lr` is deprecated, please use `learning_rate` instead, or use the legacy optimizer, e.g.,tf.keras.optimizers.legacy.Adam.\n"
     ]
    },
    {
     "name": "stdout",
     "output_type": "stream",
     "text": [
      "585/585 [==============================] - 2s 2ms/step - loss: 0.1913 - accuracy: 0.9443 - val_loss: 0.0858 - val_accuracy: 0.9738\n",
      "293/293 [==============================] - 0s 1ms/step\n"
     ]
    },
    {
     "name": "stderr",
     "output_type": "stream",
     "text": [
      "WARNING:absl:`lr` is deprecated, please use `learning_rate` instead, or use the legacy optimizer, e.g.,tf.keras.optimizers.legacy.Adam.\n"
     ]
    },
    {
     "name": "stdout",
     "output_type": "stream",
     "text": [
      "585/585 [==============================] - 2s 2ms/step - loss: 0.2163 - accuracy: 0.9375 - val_loss: 0.0875 - val_accuracy: 0.9754\n",
      "293/293 [==============================] - 0s 1ms/step\n"
     ]
    },
    {
     "name": "stderr",
     "output_type": "stream",
     "text": [
      "WARNING:absl:`lr` is deprecated, please use `learning_rate` instead, or use the legacy optimizer, e.g.,tf.keras.optimizers.legacy.Adam.\n"
     ]
    },
    {
     "name": "stdout",
     "output_type": "stream",
     "text": [
      "585/585 [==============================] - 2s 2ms/step - loss: 0.3504 - accuracy: 0.8914 - val_loss: 0.1271 - val_accuracy: 0.9617\n",
      "293/293 [==============================] - 0s 988us/step\n"
     ]
    },
    {
     "name": "stderr",
     "output_type": "stream",
     "text": [
      "WARNING:absl:`lr` is deprecated, please use `learning_rate` instead, or use the legacy optimizer, e.g.,tf.keras.optimizers.legacy.Adam.\n"
     ]
    },
    {
     "name": "stdout",
     "output_type": "stream",
     "text": [
      "585/585 [==============================] - 2s 2ms/step - loss: 0.2842 - accuracy: 0.9239 - val_loss: 0.1188 - val_accuracy: 0.9644\n",
      "293/293 [==============================] - 0s 984us/step\n"
     ]
    },
    {
     "name": "stderr",
     "output_type": "stream",
     "text": [
      "WARNING:absl:`lr` is deprecated, please use `learning_rate` instead, or use the legacy optimizer, e.g.,tf.keras.optimizers.legacy.Adam.\n"
     ]
    },
    {
     "name": "stdout",
     "output_type": "stream",
     "text": [
      "585/585 [==============================] - 2s 2ms/step - loss: 0.2794 - accuracy: 0.9161 - val_loss: 0.1261 - val_accuracy: 0.9644\n",
      "293/293 [==============================] - 0s 1ms/step\n"
     ]
    },
    {
     "name": "stderr",
     "output_type": "stream",
     "text": [
      "WARNING:absl:`lr` is deprecated, please use `learning_rate` instead, or use the legacy optimizer, e.g.,tf.keras.optimizers.legacy.Adam.\n"
     ]
    },
    {
     "name": "stdout",
     "output_type": "stream",
     "text": [
      "585/585 [==============================] - 2s 2ms/step - loss: 0.2023 - accuracy: 0.9424 - val_loss: 0.1002 - val_accuracy: 0.9679\n",
      "293/293 [==============================] - 0s 1ms/step\n"
     ]
    },
    {
     "name": "stderr",
     "output_type": "stream",
     "text": [
      "WARNING:absl:`lr` is deprecated, please use `learning_rate` instead, or use the legacy optimizer, e.g.,tf.keras.optimizers.legacy.Adam.\n"
     ]
    },
    {
     "name": "stdout",
     "output_type": "stream",
     "text": [
      "585/585 [==============================] - 2s 2ms/step - loss: 0.1942 - accuracy: 0.9454 - val_loss: 0.0986 - val_accuracy: 0.9722\n",
      "293/293 [==============================] - 0s 1ms/step\n"
     ]
    },
    {
     "name": "stderr",
     "output_type": "stream",
     "text": [
      "WARNING:absl:`lr` is deprecated, please use `learning_rate` instead, or use the legacy optimizer, e.g.,tf.keras.optimizers.legacy.Adam.\n"
     ]
    },
    {
     "name": "stdout",
     "output_type": "stream",
     "text": [
      "585/585 [==============================] - 2s 2ms/step - loss: 0.1914 - accuracy: 0.9446 - val_loss: 0.1062 - val_accuracy: 0.9707\n",
      "293/293 [==============================] - 0s 1ms/step\n"
     ]
    },
    {
     "name": "stderr",
     "output_type": "stream",
     "text": [
      "WARNING:absl:`lr` is deprecated, please use `learning_rate` instead, or use the legacy optimizer, e.g.,tf.keras.optimizers.legacy.Adam.\n"
     ]
    },
    {
     "name": "stdout",
     "output_type": "stream",
     "text": [
      "585/585 [==============================] - 2s 2ms/step - loss: 0.3321 - accuracy: 0.8939 - val_loss: 0.1156 - val_accuracy: 0.9683\n",
      "293/293 [==============================] - 0s 941us/step\n"
     ]
    },
    {
     "name": "stderr",
     "output_type": "stream",
     "text": [
      "WARNING:absl:`lr` is deprecated, please use `learning_rate` instead, or use the legacy optimizer, e.g.,tf.keras.optimizers.legacy.Adam.\n"
     ]
    },
    {
     "name": "stdout",
     "output_type": "stream",
     "text": [
      "585/585 [==============================] - 2s 2ms/step - loss: 0.3834 - accuracy: 0.8541 - val_loss: 0.1126 - val_accuracy: 0.9679\n",
      "293/293 [==============================] - 0s 1ms/step\n"
     ]
    },
    {
     "name": "stderr",
     "output_type": "stream",
     "text": [
      "WARNING:absl:`lr` is deprecated, please use `learning_rate` instead, or use the legacy optimizer, e.g.,tf.keras.optimizers.legacy.Adam.\n"
     ]
    },
    {
     "name": "stdout",
     "output_type": "stream",
     "text": [
      "585/585 [==============================] - 2s 2ms/step - loss: 0.3434 - accuracy: 0.8935 - val_loss: 0.1227 - val_accuracy: 0.9664\n",
      "293/293 [==============================] - 0s 1ms/step\n"
     ]
    },
    {
     "name": "stderr",
     "output_type": "stream",
     "text": [
      "WARNING:absl:`lr` is deprecated, please use `learning_rate` instead, or use the legacy optimizer, e.g.,tf.keras.optimizers.legacy.Adam.\n"
     ]
    },
    {
     "name": "stdout",
     "output_type": "stream",
     "text": [
      "585/585 [==============================] - 2s 2ms/step - loss: 0.1946 - accuracy: 0.9440 - val_loss: 0.0808 - val_accuracy: 0.9754\n",
      "293/293 [==============================] - 0s 1ms/step\n"
     ]
    },
    {
     "name": "stderr",
     "output_type": "stream",
     "text": [
      "WARNING:absl:`lr` is deprecated, please use `learning_rate` instead, or use the legacy optimizer, e.g.,tf.keras.optimizers.legacy.Adam.\n"
     ]
    },
    {
     "name": "stdout",
     "output_type": "stream",
     "text": [
      "585/585 [==============================] - 2s 2ms/step - loss: 0.1877 - accuracy: 0.9476 - val_loss: 0.0840 - val_accuracy: 0.9754\n",
      "293/293 [==============================] - 0s 1ms/step\n"
     ]
    },
    {
     "name": "stderr",
     "output_type": "stream",
     "text": [
      "WARNING:absl:`lr` is deprecated, please use `learning_rate` instead, or use the legacy optimizer, e.g.,tf.keras.optimizers.legacy.Adam.\n"
     ]
    },
    {
     "name": "stdout",
     "output_type": "stream",
     "text": [
      "585/585 [==============================] - 2s 2ms/step - loss: 0.1999 - accuracy: 0.9449 - val_loss: 0.0830 - val_accuracy: 0.9765\n",
      "293/293 [==============================] - 0s 1ms/step\n"
     ]
    },
    {
     "name": "stderr",
     "output_type": "stream",
     "text": [
      "WARNING:absl:`lr` is deprecated, please use `learning_rate` instead, or use the legacy optimizer, e.g.,tf.keras.optimizers.legacy.Adam.\n"
     ]
    },
    {
     "name": "stdout",
     "output_type": "stream",
     "text": [
      "877/877 [==============================] - 3s 2ms/step - loss: 0.1618 - accuracy: 0.9525 - val_loss: 0.0825 - val_accuracy: 0.9773\n"
     ]
    },
    {
     "data": {
      "text/html": [
       "<style>#sk-container-id-1 {color: black;background-color: white;}#sk-container-id-1 pre{padding: 0;}#sk-container-id-1 div.sk-toggleable {background-color: white;}#sk-container-id-1 label.sk-toggleable__label {cursor: pointer;display: block;width: 100%;margin-bottom: 0;padding: 0.3em;box-sizing: border-box;text-align: center;}#sk-container-id-1 label.sk-toggleable__label-arrow:before {content: \"▸\";float: left;margin-right: 0.25em;color: #696969;}#sk-container-id-1 label.sk-toggleable__label-arrow:hover:before {color: black;}#sk-container-id-1 div.sk-estimator:hover label.sk-toggleable__label-arrow:before {color: black;}#sk-container-id-1 div.sk-toggleable__content {max-height: 0;max-width: 0;overflow: hidden;text-align: left;background-color: #f0f8ff;}#sk-container-id-1 div.sk-toggleable__content pre {margin: 0.2em;color: black;border-radius: 0.25em;background-color: #f0f8ff;}#sk-container-id-1 input.sk-toggleable__control:checked~div.sk-toggleable__content {max-height: 200px;max-width: 100%;overflow: auto;}#sk-container-id-1 input.sk-toggleable__control:checked~label.sk-toggleable__label-arrow:before {content: \"▾\";}#sk-container-id-1 div.sk-estimator input.sk-toggleable__control:checked~label.sk-toggleable__label {background-color: #d4ebff;}#sk-container-id-1 div.sk-label input.sk-toggleable__control:checked~label.sk-toggleable__label {background-color: #d4ebff;}#sk-container-id-1 input.sk-hidden--visually {border: 0;clip: rect(1px 1px 1px 1px);clip: rect(1px, 1px, 1px, 1px);height: 1px;margin: -1px;overflow: hidden;padding: 0;position: absolute;width: 1px;}#sk-container-id-1 div.sk-estimator {font-family: monospace;background-color: #f0f8ff;border: 1px dotted black;border-radius: 0.25em;box-sizing: border-box;margin-bottom: 0.5em;}#sk-container-id-1 div.sk-estimator:hover {background-color: #d4ebff;}#sk-container-id-1 div.sk-parallel-item::after {content: \"\";width: 100%;border-bottom: 1px solid gray;flex-grow: 1;}#sk-container-id-1 div.sk-label:hover label.sk-toggleable__label {background-color: #d4ebff;}#sk-container-id-1 div.sk-serial::before {content: \"\";position: absolute;border-left: 1px solid gray;box-sizing: border-box;top: 0;bottom: 0;left: 50%;z-index: 0;}#sk-container-id-1 div.sk-serial {display: flex;flex-direction: column;align-items: center;background-color: white;padding-right: 0.2em;padding-left: 0.2em;position: relative;}#sk-container-id-1 div.sk-item {position: relative;z-index: 1;}#sk-container-id-1 div.sk-parallel {display: flex;align-items: stretch;justify-content: center;background-color: white;position: relative;}#sk-container-id-1 div.sk-item::before, #sk-container-id-1 div.sk-parallel-item::before {content: \"\";position: absolute;border-left: 1px solid gray;box-sizing: border-box;top: 0;bottom: 0;left: 50%;z-index: -1;}#sk-container-id-1 div.sk-parallel-item {display: flex;flex-direction: column;z-index: 1;position: relative;background-color: white;}#sk-container-id-1 div.sk-parallel-item:first-child::after {align-self: flex-end;width: 50%;}#sk-container-id-1 div.sk-parallel-item:last-child::after {align-self: flex-start;width: 50%;}#sk-container-id-1 div.sk-parallel-item:only-child::after {width: 0;}#sk-container-id-1 div.sk-dashed-wrapped {border: 1px dashed gray;margin: 0 0.4em 0.5em 0.4em;box-sizing: border-box;padding-bottom: 0.4em;background-color: white;}#sk-container-id-1 div.sk-label label {font-family: monospace;font-weight: bold;display: inline-block;line-height: 1.2em;}#sk-container-id-1 div.sk-label-container {text-align: center;}#sk-container-id-1 div.sk-container {/* jupyter's `normalize.less` sets `[hidden] { display: none; }` but bootstrap.min.css set `[hidden] { display: none !important; }` so we also need the `!important` here to be able to override the default hidden behavior on the sphinx rendered scikit-learn.org. See: https://github.com/scikit-learn/scikit-learn/issues/21755 */display: inline-block !important;position: relative;}#sk-container-id-1 div.sk-text-repr-fallback {display: none;}</style><div id=\"sk-container-id-1\" class=\"sk-top-container\"><div class=\"sk-text-repr-fallback\"><pre>GridSearchCV(cv=3,\n",
       "             estimator=&lt;keras.wrappers.scikit_learn.KerasClassifier object at 0x0000021F67876650&gt;,\n",
       "             param_grid={&#x27;learning_rate&#x27;: [0.0003, 0.003], &#x27;n_hidden&#x27;: [1, 2],\n",
       "                         &#x27;n_neurons&#x27;: [10, 30]},\n",
       "             scoring=make_scorer(precision_score, average=weighted))</pre><b>In a Jupyter environment, please rerun this cell to show the HTML representation or trust the notebook. <br />On GitHub, the HTML representation is unable to render, please try loading this page with nbviewer.org.</b></div><div class=\"sk-container\" hidden><div class=\"sk-item sk-dashed-wrapped\"><div class=\"sk-label-container\"><div class=\"sk-label sk-toggleable\"><input class=\"sk-toggleable__control sk-hidden--visually\" id=\"sk-estimator-id-1\" type=\"checkbox\" ><label for=\"sk-estimator-id-1\" class=\"sk-toggleable__label sk-toggleable__label-arrow\">GridSearchCV</label><div class=\"sk-toggleable__content\"><pre>GridSearchCV(cv=3,\n",
       "             estimator=&lt;keras.wrappers.scikit_learn.KerasClassifier object at 0x0000021F67876650&gt;,\n",
       "             param_grid={&#x27;learning_rate&#x27;: [0.0003, 0.003], &#x27;n_hidden&#x27;: [1, 2],\n",
       "                         &#x27;n_neurons&#x27;: [10, 30]},\n",
       "             scoring=make_scorer(precision_score, average=weighted))</pre></div></div></div><div class=\"sk-parallel\"><div class=\"sk-parallel-item\"><div class=\"sk-item\"><div class=\"sk-label-container\"><div class=\"sk-label sk-toggleable\"><input class=\"sk-toggleable__control sk-hidden--visually\" id=\"sk-estimator-id-2\" type=\"checkbox\" ><label for=\"sk-estimator-id-2\" class=\"sk-toggleable__label sk-toggleable__label-arrow\">estimator: KerasClassifier</label><div class=\"sk-toggleable__content\"><pre>&lt;keras.wrappers.scikit_learn.KerasClassifier object at 0x0000021F67876650&gt;</pre></div></div></div><div class=\"sk-serial\"><div class=\"sk-item\"><div class=\"sk-estimator sk-toggleable\"><input class=\"sk-toggleable__control sk-hidden--visually\" id=\"sk-estimator-id-3\" type=\"checkbox\" ><label for=\"sk-estimator-id-3\" class=\"sk-toggleable__label sk-toggleable__label-arrow\">KerasClassifier</label><div class=\"sk-toggleable__content\"><pre>&lt;keras.wrappers.scikit_learn.KerasClassifier object at 0x0000021F67876650&gt;</pre></div></div></div></div></div></div></div></div></div></div>"
      ],
      "text/plain": [
       "GridSearchCV(cv=3,\n",
       "             estimator=<keras.wrappers.scikit_learn.KerasClassifier object at 0x0000021F67876650>,\n",
       "             param_grid={'learning_rate': [0.0003, 0.003], 'n_hidden': [1, 2],\n",
       "                         'n_neurons': [10, 30]},\n",
       "             scoring=make_scorer(precision_score, average=weighted))"
      ]
     },
     "execution_count": 29,
     "metadata": {},
     "output_type": "execute_result"
    }
   ],
   "source": [
    "# Fit the GridSearchCV object to the data\n",
    "grid_search_cv.fit(X_train, y_train,\n",
    "                   validation_data=(X_valid, y_valid),\n",
    "                   callbacks=[keras.callbacks.EarlyStopping(patience=10)])"
   ]
  },
  {
   "cell_type": "code",
   "execution_count": 30,
   "id": "79b01330-279b-4f1a-a611-75c1c125421f",
   "metadata": {},
   "outputs": [
    {
     "name": "stdout",
     "output_type": "stream",
     "text": [
      "{'learning_rate': 0.003, 'n_hidden': 2, 'n_neurons': 30}\n"
     ]
    }
   ],
   "source": [
    "# Print the best hyperparameters\n",
    "print(grid_search_cv.best_params_)"
   ]
  },
  {
   "cell_type": "markdown",
   "id": "5fdf7fa1-39e2-4697-8a02-41800ac86459",
   "metadata": {},
   "source": [
    "**d. Now try adding Batch Normalization and compare the learning curves: is it converging faster than before? Does it produce a better model?**\n",
    "\n",
    "**Ans:**"
   ]
  },
  {
   "cell_type": "code",
   "execution_count": 31,
   "id": "18fe6cdd-add2-4a0b-a02b-b42cbb6058fe",
   "metadata": {},
   "outputs": [],
   "source": [
    "# Build DNN with Batch Normalization\n",
    "model = keras.models.Sequential([\n",
    "    keras.layers.Flatten(input_shape=[28, 28]),\n",
    "    keras.layers.BatchNormalization(),\n",
    "    keras.layers.Dense(100, activation=\"elu\", kernel_initializer=\"he_normal\"),\n",
    "    keras.layers.BatchNormalization(),\n",
    "    keras.layers.Dense(100, activation=\"elu\", kernel_initializer=\"he_normal\"),\n",
    "    keras.layers.BatchNormalization(),\n",
    "    keras.layers.Dense(100, activation=\"elu\", kernel_initializer=\"he_normal\"),\n",
    "    keras.layers.BatchNormalization(),\n",
    "    keras.layers.Dense(100, activation=\"elu\", kernel_initializer=\"he_normal\"),\n",
    "    keras.layers.BatchNormalization(),\n",
    "    keras.layers.Dense(5, activation=\"softmax\")\n",
    "])"
   ]
  },
  {
   "cell_type": "code",
   "execution_count": 32,
   "id": "74fc587f-2384-435a-9249-0cebbe7f1fa4",
   "metadata": {},
   "outputs": [],
   "source": [
    "# Compile model\n",
    "model.compile(loss=\"sparse_categorical_crossentropy\",\n",
    "              optimizer=keras.optimizers.Adam(),\n",
    "              metrics=[\"accuracy\"])"
   ]
  },
  {
   "cell_type": "code",
   "execution_count": 33,
   "id": "bdbea6aa-010b-4308-9824-ea7025703c61",
   "metadata": {},
   "outputs": [
    {
     "name": "stdout",
     "output_type": "stream",
     "text": [
      "Epoch 1/100\n",
      "877/877 [==============================] - 7s 4ms/step - loss: 0.1274 - accuracy: 0.9608 - val_loss: 0.0655 - val_accuracy: 0.9781\n",
      "Epoch 2/100\n",
      "877/877 [==============================] - 3s 3ms/step - loss: 0.0608 - accuracy: 0.9806 - val_loss: 0.0479 - val_accuracy: 0.9836\n",
      "Epoch 3/100\n",
      "877/877 [==============================] - 3s 4ms/step - loss: 0.0468 - accuracy: 0.9848 - val_loss: 0.0370 - val_accuracy: 0.9898\n",
      "Epoch 4/100\n",
      "877/877 [==============================] - 3s 3ms/step - loss: 0.0345 - accuracy: 0.9887 - val_loss: 0.0380 - val_accuracy: 0.9894\n",
      "Epoch 5/100\n",
      "877/877 [==============================] - 3s 4ms/step - loss: 0.0329 - accuracy: 0.9894 - val_loss: 0.0343 - val_accuracy: 0.9891\n",
      "Epoch 6/100\n",
      "877/877 [==============================] - 3s 4ms/step - loss: 0.0309 - accuracy: 0.9896 - val_loss: 0.0359 - val_accuracy: 0.9898\n",
      "Epoch 7/100\n",
      "877/877 [==============================] - 3s 3ms/step - loss: 0.0219 - accuracy: 0.9930 - val_loss: 0.0337 - val_accuracy: 0.9910\n",
      "Epoch 8/100\n",
      "877/877 [==============================] - 3s 3ms/step - loss: 0.0217 - accuracy: 0.9928 - val_loss: 0.0334 - val_accuracy: 0.9898\n",
      "Epoch 9/100\n",
      "877/877 [==============================] - 3s 4ms/step - loss: 0.0169 - accuracy: 0.9946 - val_loss: 0.0513 - val_accuracy: 0.9863\n",
      "Epoch 10/100\n",
      "877/877 [==============================] - 3s 3ms/step - loss: 0.0179 - accuracy: 0.9939 - val_loss: 0.0433 - val_accuracy: 0.9863\n",
      "Epoch 11/100\n",
      "877/877 [==============================] - 3s 3ms/step - loss: 0.0183 - accuracy: 0.9941 - val_loss: 0.0429 - val_accuracy: 0.9867\n",
      "Epoch 12/100\n",
      "877/877 [==============================] - 3s 4ms/step - loss: 0.0144 - accuracy: 0.9952 - val_loss: 0.0442 - val_accuracy: 0.9898\n",
      "Epoch 13/100\n",
      "877/877 [==============================] - 3s 4ms/step - loss: 0.0134 - accuracy: 0.9951 - val_loss: 0.0382 - val_accuracy: 0.9902\n",
      "Epoch 14/100\n",
      "877/877 [==============================] - 3s 4ms/step - loss: 0.0102 - accuracy: 0.9969 - val_loss: 0.0364 - val_accuracy: 0.9914\n",
      "Epoch 15/100\n",
      "877/877 [==============================] - 3s 4ms/step - loss: 0.0138 - accuracy: 0.9955 - val_loss: 0.0435 - val_accuracy: 0.9891\n",
      "Epoch 16/100\n",
      "877/877 [==============================] - 3s 4ms/step - loss: 0.0113 - accuracy: 0.9963 - val_loss: 0.0420 - val_accuracy: 0.9910\n",
      "Epoch 17/100\n",
      "877/877 [==============================] - 3s 4ms/step - loss: 0.0114 - accuracy: 0.9964 - val_loss: 0.0453 - val_accuracy: 0.9871\n",
      "Epoch 18/100\n",
      "877/877 [==============================] - 3s 3ms/step - loss: 0.0110 - accuracy: 0.9967 - val_loss: 0.0444 - val_accuracy: 0.9898\n"
     ]
    }
   ],
   "source": [
    "# Train model\n",
    "history_bn = model.fit(X_train, y_train, epochs=100, batch_size=32,\n",
    "                       validation_data=(X_valid, y_valid),\n",
    "                       callbacks=[early_stopping_cb])"
   ]
  },
  {
   "cell_type": "code",
   "execution_count": 34,
   "id": "18405549-258e-4501-a085-e7589cadb733",
   "metadata": {},
   "outputs": [],
   "source": [
    "import matplotlib.pyplot as plt"
   ]
  },
  {
   "cell_type": "code",
   "execution_count": 35,
   "id": "6ca5bd58-07a7-4aeb-855d-ad14c63f652a",
   "metadata": {},
   "outputs": [
    {
     "data": {
      "image/png": "[encoded data removed]",
      "text/plain": [
       "<Figure size 640x480 with 1 Axes>"
      ]
     },
     "metadata": {},
     "output_type": "display_data"
    },
    {
     "data": {
      "image/png": "[encoded data removed]",
      "text/plain": [
       "<Figure size 640x480 with 1 Axes>"
      ]
     },
     "metadata": {},
     "output_type": "display_data"
    }
   ],
   "source": [
    "# Plot learning curves\n",
    "def plot_learning_curves(history, label=None):\n",
    "    plt.plot(history.history[\"loss\"], label=label + \" training\")\n",
    "    plt.plot(history.history[\"val_loss\"], label=label + \" validation\")\n",
    "    plt.legend()\n",
    "    plt.title(\"Learning curves\")\n",
    "    plt.xlabel(\"Epochs\")\n",
    "    plt.ylabel(\"Loss\")\n",
    "    plt.show()\n",
    "\n",
    "plot_learning_curves(history, label=\"Original\")\n",
    "plot_learning_curves(history_bn, label=\"Batch Normalization\")"
   ]
  },
  {
   "cell_type": "markdown",
   "id": "cfe35510-223a-477f-b22d-d26652248caf",
   "metadata": {},
   "source": [
    "**e. Is the model overfitting the training set? Try adding dropout to every layer and try again. Does it help?**\n",
    "\n",
    "**Ans:**"
   ]
  },
  {
   "cell_type": "code",
   "execution_count": 36,
   "id": "f74e07a1-b318-4f68-b7ff-cb983f81388a",
   "metadata": {},
   "outputs": [],
   "source": [
    "# Build DNN with Dropout\n",
    "model = keras.models.Sequential([\n",
    "    keras.layers.Flatten(input_shape=[28, 28]),\n",
    "    keras.layers.Dropout(rate=0.2),\n",
    "    keras.layers.Dense(100, activation=\"elu\", kernel_initializer=\"he_normal\"),\n",
    "    keras.layers.Dropout(rate=0.2),\n",
    "    keras.layers.Dense(100, activation=\"elu\", kernel_initializer=\"he_normal\"),\n",
    "    keras.layers.Dropout(rate=0.2),\n",
    "    keras.layers.Dense(100, activation=\"elu\", kernel_initializer=\"he_normal\"),\n",
    "    keras.layers.Dropout(rate=0.2),\n",
    "    keras.layers.Dense(100, activation=\"elu\", kernel_initializer=\"he_normal\"),\n",
    "    keras.layers.Dropout(rate=0.2),\n",
    "    keras.layers.Dense(5, activation=\"softmax\")\n",
    "])"
   ]
  },
  {
   "cell_type": "code",
   "execution_count": 37,
   "id": "21655d84-1d4a-4675-923c-16baf41339ae",
   "metadata": {},
   "outputs": [],
   "source": [
    "# Compile model\n",
    "model.compile(loss=\"sparse_categorical_crossentropy\",\n",
    "              optimizer=keras.optimizers.Adam(),\n",
    "              metrics=[\"accuracy\"])"
   ]
  },
  {
   "cell_type": "code",
   "execution_count": 38,
   "id": "d37f8e2d-e9ca-4a66-86ef-89d3aa00b41c",
   "metadata": {},
   "outputs": [
    {
     "name": "stdout",
     "output_type": "stream",
     "text": [
      "Epoch 1/100\n",
      "877/877 [==============================] - 5s 4ms/step - loss: 0.2207 - accuracy: 0.9318 - val_loss: 0.0899 - val_accuracy: 0.9707\n",
      "Epoch 2/100\n",
      "877/877 [==============================] - 3s 3ms/step - loss: 0.1267 - accuracy: 0.9610 - val_loss: 0.0725 - val_accuracy: 0.9777\n",
      "Epoch 3/100\n",
      "877/877 [==============================] - 3s 3ms/step - loss: 0.0949 - accuracy: 0.9713 - val_loss: 0.0538 - val_accuracy: 0.9840\n",
      "Epoch 4/100\n",
      "877/877 [==============================] - 3s 4ms/step - loss: 0.0803 - accuracy: 0.9751 - val_loss: 0.0460 - val_accuracy: 0.9855\n",
      "Epoch 5/100\n",
      "877/877 [==============================] - 3s 4ms/step - loss: 0.0727 - accuracy: 0.9776 - val_loss: 0.0389 - val_accuracy: 0.9871\n",
      "Epoch 6/100\n",
      "877/877 [==============================] - 3s 3ms/step - loss: 0.0631 - accuracy: 0.9807 - val_loss: 0.0361 - val_accuracy: 0.9863\n",
      "Epoch 7/100\n",
      "877/877 [==============================] - 3s 4ms/step - loss: 0.0588 - accuracy: 0.9823 - val_loss: 0.0341 - val_accuracy: 0.9887\n",
      "Epoch 8/100\n",
      "877/877 [==============================] - 3s 4ms/step - loss: 0.0531 - accuracy: 0.9842 - val_loss: 0.0388 - val_accuracy: 0.9891\n",
      "Epoch 9/100\n",
      "877/877 [==============================] - 3s 4ms/step - loss: 0.0506 - accuracy: 0.9852 - val_loss: 0.0263 - val_accuracy: 0.9930\n",
      "Epoch 10/100\n",
      "877/877 [==============================] - 3s 4ms/step - loss: 0.0488 - accuracy: 0.9851 - val_loss: 0.0309 - val_accuracy: 0.9898\n",
      "Epoch 11/100\n",
      "877/877 [==============================] - 3s 3ms/step - loss: 0.0454 - accuracy: 0.9868 - val_loss: 0.0226 - val_accuracy: 0.9910\n",
      "Epoch 12/100\n",
      "877/877 [==============================] - 3s 4ms/step - loss: 0.0431 - accuracy: 0.9870 - val_loss: 0.0266 - val_accuracy: 0.9902\n",
      "Epoch 13/100\n",
      "877/877 [==============================] - 3s 4ms/step - loss: 0.0359 - accuracy: 0.9889 - val_loss: 0.0284 - val_accuracy: 0.9918\n",
      "Epoch 14/100\n",
      "877/877 [==============================] - 3s 4ms/step - loss: 0.0349 - accuracy: 0.9893 - val_loss: 0.0279 - val_accuracy: 0.9918\n",
      "Epoch 15/100\n",
      "877/877 [==============================] - 3s 4ms/step - loss: 0.0381 - accuracy: 0.9879 - val_loss: 0.0261 - val_accuracy: 0.9937\n",
      "Epoch 16/100\n",
      "877/877 [==============================] - 3s 4ms/step - loss: 0.0340 - accuracy: 0.9897 - val_loss: 0.0279 - val_accuracy: 0.9934\n",
      "Epoch 17/100\n",
      "877/877 [==============================] - 3s 4ms/step - loss: 0.0322 - accuracy: 0.9905 - val_loss: 0.0183 - val_accuracy: 0.9949\n",
      "Epoch 18/100\n",
      "877/877 [==============================] - 3s 4ms/step - loss: 0.0300 - accuracy: 0.9904 - val_loss: 0.0260 - val_accuracy: 0.9930\n",
      "Epoch 19/100\n",
      "877/877 [==============================] - 3s 3ms/step - loss: 0.0317 - accuracy: 0.9902 - val_loss: 0.0295 - val_accuracy: 0.9930\n",
      "Epoch 20/100\n",
      "877/877 [==============================] - 3s 4ms/step - loss: 0.0296 - accuracy: 0.9905 - val_loss: 0.0297 - val_accuracy: 0.9941\n",
      "Epoch 21/100\n",
      "877/877 [==============================] - 3s 3ms/step - loss: 0.0306 - accuracy: 0.9906 - val_loss: 0.0198 - val_accuracy: 0.9930\n",
      "Epoch 22/100\n",
      "877/877 [==============================] - 3s 4ms/step - loss: 0.0272 - accuracy: 0.9918 - val_loss: 0.0249 - val_accuracy: 0.9934\n",
      "Epoch 23/100\n",
      "877/877 [==============================] - 3s 3ms/step - loss: 0.0268 - accuracy: 0.9915 - val_loss: 0.0248 - val_accuracy: 0.9937\n",
      "Epoch 24/100\n",
      "877/877 [==============================] - 3s 4ms/step - loss: 0.0259 - accuracy: 0.9922 - val_loss: 0.0274 - val_accuracy: 0.9934\n",
      "Epoch 25/100\n",
      "877/877 [==============================] - 3s 3ms/step - loss: 0.0257 - accuracy: 0.9923 - val_loss: 0.0287 - val_accuracy: 0.9937\n",
      "Epoch 26/100\n",
      "877/877 [==============================] - 3s 3ms/step - loss: 0.0279 - accuracy: 0.9922 - val_loss: 0.0303 - val_accuracy: 0.9930\n",
      "Epoch 27/100\n",
      "877/877 [==============================] - 3s 3ms/step - loss: 0.0235 - accuracy: 0.9928 - val_loss: 0.0180 - val_accuracy: 0.9941\n",
      "Epoch 28/100\n",
      "877/877 [==============================] - 3s 3ms/step - loss: 0.0247 - accuracy: 0.9930 - val_loss: 0.0217 - val_accuracy: 0.9934\n",
      "Epoch 29/100\n",
      "877/877 [==============================] - 3s 4ms/step - loss: 0.0203 - accuracy: 0.9941 - val_loss: 0.0231 - val_accuracy: 0.9937\n",
      "Epoch 30/100\n",
      "877/877 [==============================] - 3s 4ms/step - loss: 0.0236 - accuracy: 0.9930 - val_loss: 0.0222 - val_accuracy: 0.9945\n",
      "Epoch 31/100\n",
      "877/877 [==============================] - 3s 4ms/step - loss: 0.0228 - accuracy: 0.9933 - val_loss: 0.0209 - val_accuracy: 0.9937\n",
      "Epoch 32/100\n",
      "877/877 [==============================] - 3s 4ms/step - loss: 0.0218 - accuracy: 0.9929 - val_loss: 0.0310 - val_accuracy: 0.9930\n",
      "Epoch 33/100\n",
      "877/877 [==============================] - 3s 4ms/step - loss: 0.0186 - accuracy: 0.9945 - val_loss: 0.0217 - val_accuracy: 0.9953\n",
      "Epoch 34/100\n",
      "877/877 [==============================] - 3s 4ms/step - loss: 0.0223 - accuracy: 0.9942 - val_loss: 0.0340 - val_accuracy: 0.9926\n",
      "Epoch 35/100\n",
      "877/877 [==============================] - 3s 3ms/step - loss: 0.0200 - accuracy: 0.9943 - val_loss: 0.0266 - val_accuracy: 0.9945\n",
      "Epoch 36/100\n",
      "877/877 [==============================] - 3s 4ms/step - loss: 0.0199 - accuracy: 0.9940 - val_loss: 0.0295 - val_accuracy: 0.9953\n",
      "Epoch 37/100\n",
      "877/877 [==============================] - 3s 4ms/step - loss: 0.0210 - accuracy: 0.9940 - val_loss: 0.0267 - val_accuracy: 0.9937\n"
     ]
    }
   ],
   "source": [
    "# Train model\n",
    "history_dropout = model.fit(X_train, y_train, epochs=100, batch_size=32,\n",
    "                            validation_data=(X_valid, y_valid),\n",
    "                            callbacks=[early_stopping_cb])"
   ]
  },
  {
   "cell_type": "code",
   "execution_count": 39,
   "id": "2d043be1-5b81-4d07-a35b-121e681cf20a",
   "metadata": {},
   "outputs": [
    {
     "data": {
      "image/png": "[encoded data removed]",
      "text/plain": [
       "<Figure size 640x480 with 1 Axes>"
      ]
     },
     "metadata": {},
     "output_type": "display_data"
    },
    {
     "data": {
      "image/png": "[encoded data removed]",
      "text/plain": [
       "<Figure size 640x480 with 1 Axes>"
      ]
     },
     "metadata": {},
     "output_type": "display_data"
    }
   ],
   "source": [
    "plot_learning_curves(history_bn, label=\"Batch Normalization\")\n",
    "plot_learning_curves(history_dropout, label=\"Dropout\")"
   ]
  },
  {
   "cell_type": "markdown",
   "id": "7cbb1bdb-107c-4f08-ad2e-ee261e44f456",
   "metadata": {},
   "source": [
    "**2. Transfer learning.**\n",
    "\n",
    "**a. Create a new DNN that reuses all the pretrained hidden layers of the previous model, freezes them, and replaces the softmax output layer with a new one.**\n",
    "\n",
    "**b. Train this new DNN on digits 5 to 9, using only 100 images per digit, and time how long it takes. Despite this small number of examples, can you achieve high precision?**\n",
    "\n",
    "**c. Try caching the frozen layers, and train the model again: how much faster is it now?**\n",
    "\n",
    "**d. Try again reusing just four hidden layers instead of five. Can you achieve a higher precision?**\n",
    "\n",
    "**e. Now unfreeze the top two hidden layers and continue training: can you get the model to perform even better?**\n",
    "\n",
    "**Ans:**"
   ]
  },
  {
   "cell_type": "code",
   "execution_count": 40,
   "id": "38d4f0e6-dac2-477d-ab11-f38ee4fa6a22",
   "metadata": {},
   "outputs": [],
   "source": [
    "import tensorflow as tf\n",
    "from tensorflow import keras"
   ]
  },
  {
   "cell_type": "code",
   "execution_count": 41,
   "id": "824db663-80ce-42b0-990d-eede03e14fd3",
   "metadata": {},
   "outputs": [
    {
     "name": "stdout",
     "output_type": "stream",
     "text": [
      "Model: \"sequential_1\"\n",
      "_________________________________________________________________\n",
      " Layer (type)                Output Shape              Param #   \n",
      "=================================================================\n",
      " flatten_1 (Flatten)         (None, 784)               0         \n",
      "                                                                 \n",
      " dense_6 (Dense)             (None, 300)               235500    \n",
      "                                                                 \n",
      " dense_7 (Dense)             (None, 100)               30100     \n",
      "                                                                 \n",
      " dense_8 (Dense)             (None, 5)                 505       \n",
      "                                                                 \n",
      "=================================================================\n",
      "Total params: 266,105\n",
      "Trainable params: 266,105\n",
      "Non-trainable params: 0\n",
      "_________________________________________________________________\n"
     ]
    }
   ],
   "source": [
    "# Load the pretrained model\n",
    "pretrained_model = keras.models.load_model(\"my_mnist_model.h5\")\n",
    "pretrained_model.summary()"
   ]
  },
  {
   "cell_type": "code",
   "execution_count": 42,
   "id": "47820377-3e4d-48be-8931-c07af9151bf2",
   "metadata": {},
   "outputs": [],
   "source": [
    "# Create a new DNN that reuses all the pretrained hidden layers of the previous model\n",
    "new_model = keras.models.Sequential(pretrained_model.layers[:-1])"
   ]
  },
  {
   "cell_type": "code",
   "execution_count": 43,
   "id": "7c607b35-b076-4962-966b-787270f04502",
   "metadata": {},
   "outputs": [],
   "source": [
    "# Freeze the reused layers\n",
    "for layer in new_model.layers:\n",
    "    layer.trainable = False"
   ]
  },
  {
   "cell_type": "code",
   "execution_count": 44,
   "id": "c5f8bc9f-f6d0-428f-88ba-f652a2f577dd",
   "metadata": {},
   "outputs": [],
   "source": [
    "# Add a new softmax output layer with the desired number of units\n",
    "new_model.add(keras.layers.Dense(5, activation=\"softmax\"))"
   ]
  },
  {
   "cell_type": "code",
   "execution_count": 45,
   "id": "94f64c2a-e8a0-40a1-aefc-70bb14a431a2",
   "metadata": {},
   "outputs": [],
   "source": [
    "# Compile the new model\n",
    "new_model.compile(loss=\"sparse_categorical_crossentropy\", optimizer=\"sgd\", metrics=[\"accuracy\"])"
   ]
  },
  {
   "cell_type": "code",
   "execution_count": 46,
   "id": "9d036842-8d8f-4b79-a018-29fde9d5b93a",
   "metadata": {},
   "outputs": [],
   "source": [
    "# Load the training data for digits 5 to 9\n",
    "(X_train, y_train), (X_test, y_test) = keras.datasets.mnist.load_data()\n",
    "X_train = X_train[y_train >= 5]\n",
    "y_train = y_train[y_train >= 5] - 5\n",
    "X_test = X_test[y_test >= 5]\n",
    "y_test = y_test[y_test >= 5] - 5"
   ]
  },
  {
   "cell_type": "code",
   "execution_count": 48,
   "id": "5386f6f6-ebfb-4c93-a03c-3d251a9540ff",
   "metadata": {},
   "outputs": [
    {
     "name": "stdout",
     "output_type": "stream",
     "text": [
      "Epoch 1/10\n",
      "16/16 [==============================] - 1s 32ms/step - loss: 4307.7217 - accuracy: 0.5180 - val_loss: 2598.1479 - val_accuracy: 0.5890\n",
      "Epoch 2/10\n",
      "16/16 [==============================] - 0s 21ms/step - loss: 1763.8701 - accuracy: 0.7060 - val_loss: 1667.8774 - val_accuracy: 0.6490\n",
      "Epoch 3/10\n",
      "16/16 [==============================] - 0s 19ms/step - loss: 1083.4775 - accuracy: 0.7460 - val_loss: 1610.0925 - val_accuracy: 0.7079\n",
      "Epoch 4/10\n",
      "16/16 [==============================] - 0s 19ms/step - loss: 905.3940 - accuracy: 0.7880 - val_loss: 1757.8708 - val_accuracy: 0.6591\n",
      "Epoch 5/10\n",
      "16/16 [==============================] - 0s 18ms/step - loss: 2200.0759 - accuracy: 0.7020 - val_loss: 1118.3624 - val_accuracy: 0.7819\n",
      "Epoch 6/10\n",
      "16/16 [==============================] - 0s 18ms/step - loss: 715.2824 - accuracy: 0.8220 - val_loss: 905.8640 - val_accuracy: 0.8079\n",
      "Epoch 7/10\n",
      "16/16 [==============================] - 0s 18ms/step - loss: 474.4525 - accuracy: 0.8580 - val_loss: 1208.3062 - val_accuracy: 0.7171\n",
      "Epoch 8/10\n",
      "16/16 [==============================] - 0s 17ms/step - loss: 769.3243 - accuracy: 0.8220 - val_loss: 2484.8477 - val_accuracy: 0.7042\n",
      "Epoch 9/10\n",
      "16/16 [==============================] - 0s 17ms/step - loss: 581.3818 - accuracy: 0.8560 - val_loss: 757.4460 - val_accuracy: 0.8237\n",
      "Epoch 10/10\n",
      "16/16 [==============================] - 0s 17ms/step - loss: 223.6416 - accuracy: 0.8900 - val_loss: 919.6008 - val_accuracy: 0.7910\n"
     ]
    }
   ],
   "source": [
    " # Train the new model on digits 5 to 9 using only 100 images per digit\n",
    "history = new_model.fit(X_train[:500], y_train[:500], epochs=10, validation_data=(X_test, y_test))"
   ]
  },
  {
   "cell_type": "code",
   "execution_count": 49,
   "id": "073918bb-f5d0-43b1-8642-8ba6d01961b8",
   "metadata": {},
   "outputs": [
    {
     "name": "stdout",
     "output_type": "stream",
     "text": [
      "152/152 [==============================] - 0s 2ms/step - loss: 919.6008 - accuracy: 0.7910\n",
      "Test accuracy: 0.7909895181655884\n"
     ]
    }
   ],
   "source": [
    "# Evaluate the trained model\n",
    "test_loss, test_acc = new_model.evaluate(X_test, y_test)\n",
    "print(f\"Test accuracy: {test_acc}\")"
   ]
  },
  {
   "cell_type": "code",
   "execution_count": 50,
   "id": "00c7786e-95b5-4bff-ba44-814f73c4fda1",
   "metadata": {},
   "outputs": [
    {
     "name": "stdout",
     "output_type": "stream",
     "text": [
      "Epoch 1/10\n",
      "16/16 [==============================] - 1s 30ms/step - loss: 541.1556 - accuracy: 0.8360 - val_loss: 783.7675 - val_accuracy: 0.8276\n",
      "Epoch 2/10\n",
      "16/16 [==============================] - 0s 18ms/step - loss: 274.7602 - accuracy: 0.8980 - val_loss: 663.4870 - val_accuracy: 0.8402\n",
      "Epoch 3/10\n",
      "16/16 [==============================] - 0s 18ms/step - loss: 545.8695 - accuracy: 0.8260 - val_loss: 1182.5072 - val_accuracy: 0.7638\n",
      "Epoch 4/10\n",
      "16/16 [==============================] - 0s 18ms/step - loss: 372.7621 - accuracy: 0.8740 - val_loss: 677.4314 - val_accuracy: 0.8459\n",
      "Epoch 5/10\n",
      "16/16 [==============================] - 0s 19ms/step - loss: 198.4601 - accuracy: 0.9140 - val_loss: 904.2610 - val_accuracy: 0.7984\n",
      "Epoch 6/10\n",
      "16/16 [==============================] - 0s 18ms/step - loss: 229.9938 - accuracy: 0.8740 - val_loss: 2327.8459 - val_accuracy: 0.6375\n",
      "Epoch 7/10\n",
      "16/16 [==============================] - 0s 18ms/step - loss: 855.9783 - accuracy: 0.8340 - val_loss: 696.0936 - val_accuracy: 0.8472\n",
      "Epoch 8/10\n",
      "16/16 [==============================] - 0s 18ms/step - loss: 150.2584 - accuracy: 0.9140 - val_loss: 791.9724 - val_accuracy: 0.8338\n",
      "Epoch 9/10\n",
      "16/16 [==============================] - 0s 17ms/step - loss: 200.7348 - accuracy: 0.9040 - val_loss: 563.1078 - val_accuracy: 0.8529\n",
      "Epoch 10/10\n",
      "16/16 [==============================] - 0s 17ms/step - loss: 138.8828 - accuracy: 0.9180 - val_loss: 1248.1455 - val_accuracy: 0.7466\n"
     ]
    }
   ],
   "source": [
    "# Try caching the frozen layers and train the model again\n",
    "new_model.layers[0].trainable = True\n",
    "new_model.compile(loss=\"sparse_categorical_crossentropy\", optimizer=\"sgd\", metrics=[\"accuracy\"])\n",
    "history = new_model.fit(X_train[:500], y_train[:500], epochs=10, validation_data=(X_test, y_test))"
   ]
  },
  {
   "cell_type": "code",
   "execution_count": 51,
   "id": "6715b7ba-eb07-4aca-899b-4e094b5c2069",
   "metadata": {},
   "outputs": [
    {
     "name": "stdout",
     "output_type": "stream",
     "text": [
      "152/152 [==============================] - 0s 2ms/step - loss: 1248.1455 - accuracy: 0.7466\n",
      "Test accuracy: 0.7465541958808899\n"
     ]
    }
   ],
   "source": [
    "# Evaluate the trained model again\n",
    "test_loss, test_acc = new_model.evaluate(X_test, y_test)\n",
    "print(f\"Test accuracy: {test_acc}\")"
   ]
  },
  {
   "cell_type": "code",
   "execution_count": 52,
   "id": "e91d881a-d1b3-4958-855a-04fe03e44f7e",
   "metadata": {},
   "outputs": [
    {
     "name": "stdout",
     "output_type": "stream",
     "text": [
      "Epoch 1/10\n",
      "16/16 [==============================] - 1s 29ms/step - loss: 788.8603 - accuracy: 0.6700 - val_loss: 253.1990 - val_accuracy: 0.8416\n",
      "Epoch 2/10\n",
      "16/16 [==============================] - 0s 17ms/step - loss: 165.6561 - accuracy: 0.9040 - val_loss: 249.0982 - val_accuracy: 0.8369\n",
      "Epoch 3/10\n",
      "16/16 [==============================] - 0s 20ms/step - loss: 98.8344 - accuracy: 0.9200 - val_loss: 155.2567 - val_accuracy: 0.8807\n",
      "Epoch 4/10\n",
      "16/16 [==============================] - 0s 17ms/step - loss: 53.6290 - accuracy: 0.9380 - val_loss: 153.1666 - val_accuracy: 0.8770\n",
      "Epoch 5/10\n",
      "16/16 [==============================] - 0s 17ms/step - loss: 42.6838 - accuracy: 0.9280 - val_loss: 217.9577 - val_accuracy: 0.8420\n",
      "Epoch 6/10\n",
      "16/16 [==============================] - 0s 17ms/step - loss: 53.3312 - accuracy: 0.9340 - val_loss: 258.4122 - val_accuracy: 0.8492\n",
      "Epoch 7/10\n",
      "16/16 [==============================] - 0s 17ms/step - loss: 26.7323 - accuracy: 0.9640 - val_loss: 148.4868 - val_accuracy: 0.8906\n",
      "Epoch 8/10\n",
      "16/16 [==============================] - 0s 16ms/step - loss: 4.7749 - accuracy: 0.9880 - val_loss: 140.9791 - val_accuracy: 0.8897\n",
      "Epoch 9/10\n",
      "16/16 [==============================] - 0s 16ms/step - loss: 10.4556 - accuracy: 0.9820 - val_loss: 159.9039 - val_accuracy: 0.8801\n",
      "Epoch 10/10\n",
      "16/16 [==============================] - 0s 17ms/step - loss: 8.9488 - accuracy: 0.9820 - val_loss: 146.4952 - val_accuracy: 0.8871\n"
     ]
    }
   ],
   "source": [
    "# Try again reusing just four hidden layers instead of five\n",
    "new_model2 = keras.models.Sequential(pretrained_model.layers[:-2])\n",
    "for layer in new_model2.layers:\n",
    "    layer.trainable = False\n",
    "new_model2.add(keras.layers.Dense(5, activation=\"softmax\"))\n",
    "new_model2.compile(loss=\"sparse_categorical_crossentropy\", optimizer=\"sgd\", metrics=[\"accuracy\"])\n",
    "history = new_model2.fit(X_train[:500], y_train[:500], epochs=10, validation_data=(X_test, y_test))"
   ]
  },
  {
   "cell_type": "code",
   "execution_count": 53,
   "id": "e4d7a45d-42d3-4258-9baa-47eaf8214eaa",
   "metadata": {},
   "outputs": [
    {
     "name": "stdout",
     "output_type": "stream",
     "text": [
      "152/152 [==============================] - 0s 2ms/step - loss: 146.4952 - accuracy: 0.8871\n",
      "Test accuracy: 0.887060284614563\n"
     ]
    }
   ],
   "source": [
    "# Evaluate the trained model again\n",
    "test_loss, test_acc = new_model2.evaluate(X_test, y_test)\n",
    "print(f\"Test accuracy: {test_acc}\")"
   ]
  },
  {
   "cell_type": "code",
   "execution_count": 54,
   "id": "14ae207e-1374-44d1-84b1-7913efb30ee9",
   "metadata": {},
   "outputs": [
    {
     "name": "stdout",
     "output_type": "stream",
     "text": [
      "Epoch 1/10\n",
      "16/16 [==============================] - 1s 31ms/step - loss: 656612.4375 - accuracy: 0.4840 - val_loss: 183.0802 - val_accuracy: 0.2804\n",
      "Epoch 2/10\n",
      "16/16 [==============================] - 0s 17ms/step - loss: 25.1795 - accuracy: 0.2920 - val_loss: 2.3482 - val_accuracy: 0.2800\n",
      "Epoch 3/10\n",
      "16/16 [==============================] - 0s 17ms/step - loss: 1.4871 - accuracy: 0.2640 - val_loss: 2.3337 - val_accuracy: 0.2864\n",
      "Epoch 4/10\n",
      "16/16 [==============================] - 0s 18ms/step - loss: 1.4302 - accuracy: 0.3220 - val_loss: 2.2555 - val_accuracy: 0.3752\n",
      "Epoch 5/10\n",
      "16/16 [==============================] - 0s 18ms/step - loss: 1.3692 - accuracy: 0.3580 - val_loss: 2.2578 - val_accuracy: 0.4020\n",
      "Epoch 6/10\n",
      "16/16 [==============================] - 0s 18ms/step - loss: 1.3724 - accuracy: 0.3660 - val_loss: 2.2674 - val_accuracy: 0.3853\n",
      "Epoch 7/10\n",
      "16/16 [==============================] - 0s 18ms/step - loss: 1.3481 - accuracy: 0.3580 - val_loss: 2.3200 - val_accuracy: 0.4036\n",
      "Epoch 8/10\n",
      "16/16 [==============================] - 0s 19ms/step - loss: 1.3057 - accuracy: 0.3900 - val_loss: 2.2959 - val_accuracy: 0.4057\n",
      "Epoch 9/10\n",
      "16/16 [==============================] - 0s 19ms/step - loss: 1.2945 - accuracy: 0.3980 - val_loss: 2.2361 - val_accuracy: 0.4065\n",
      "Epoch 10/10\n",
      "16/16 [==============================] - 0s 21ms/step - loss: 1.2581 - accuracy: 0.4120 - val_loss: 2.2901 - val_accuracy: 0.4193\n"
     ]
    }
   ],
   "source": [
    "# Now unfreeze the top two hidden layers and continue training\n",
    "for layer in new_model2.layers[-3:]:\n",
    "    layer.trainable = True\n",
    "new_model2.compile(loss=\"sparse_categorical_crossentropy\", optimizer=\"sgd\", metrics=[\"accuracy\"])\n",
    "history = new_model2.fit(X_train[:500], y_train[:500], epochs=10, validation_data=(X_test, y_test))"
   ]
  },
  {
   "cell_type": "code",
   "execution_count": 55,
   "id": "691d35e5-f317-499d-922f-35fc4cae5813",
   "metadata": {},
   "outputs": [
    {
     "name": "stdout",
     "output_type": "stream",
     "text": [
      "152/152 [==============================] - 0s 2ms/step - loss: 2.2901 - accuracy: 0.4193\n",
      "Test accuracy: 0.4192552864551544\n"
     ]
    }
   ],
   "source": [
    "# Evaluate the trained model again\n",
    "test_loss, test_acc = new_model2.evaluate(X_test, y_test)\n",
    "print(f\"Test accuracy: {test_acc}\")"
   ]
  },
  {
   "cell_type": "markdown",
   "id": "1531b084-354b-40e4-93f0-1d71722991c3",
   "metadata": {},
   "source": [
    "**3. Pretraining on an auxiliary task.**\n",
    "\n",
    "**a. In this exercise you will build a DNN that compares two MNIST digit images and predicts whether they represent the same digit or not. Then you will reuse the lower layers of this network to train an MNIST classifier using very little training data. Start by building two DNNs (let’s call them DNN A and B), both similar to the one you built earlier but without the output layer: each DNN should have five hidden layers of 100 neurons each, He initialization, and ELU activation. Next, add one more hidden layer with 10 units on top of both DNNs. To do this, you should use TensorFlow’s concat() function with axis=1 to concatenate the outputs of both DNNs for each instance, then feed the result to the hidden layer. Finally, add an output layer with a single neuron using the logistic activation function.**\n",
    "\n",
    "**b. Split the MNIST training set in two sets: split #1 should containing 55,000 images, and split #2 should contain contain 5,000 images. Create a function that generates a training batch where each instance is a pair of MNIST images picked from split #1. Half of the training instances should be pairs of images that belong to the same class, while the other half should be images from different classes. For each pair, the training label should be 0 if the images are from the same class, or 1 if they are from different classes.**\n",
    "\n",
    "**c. Train the DNN on this training set. For each image pair, you can simultaneously feed the first image to DNN A and the second image to DNN B. The whole network will gradually learn to tell whether two images belong to the same class or not.**\n",
    "\n",
    "**d. Now create a new DNN by reusing and freezing the hidden layers of DNN A and adding a softmax output layer on top with 10 neurons. Train this network on split #2 and see if you can achieve high performance despite having only 500 images per class.**\n",
    "\n",
    "**Ans:**"
   ]
  },
  {
   "cell_type": "code",
   "execution_count": 56,
   "id": "c508ad38-4d36-448f-a510-b21392122efd",
   "metadata": {},
   "outputs": [],
   "source": [
    "import tensorflow as tf\n",
    "from tensorflow import keras\n",
    "import numpy as np"
   ]
  },
  {
   "cell_type": "code",
   "execution_count": 57,
   "id": "d7e5b169-ca13-40b0-9fe7-9ce878e49dc3",
   "metadata": {},
   "outputs": [],
   "source": [
    "# Load the MNIST dataset and split it into two sets\n",
    "(X_train_full, y_train_full), (X_test, y_test) = keras.datasets.mnist.load_data()\n",
    "X_train_full = X_train_full.astype(np.float32) / 255\n",
    "X_test = X_test.astype(np.float32) / 255\n",
    "X_train1 = X_train_full[:55000]\n",
    "y_train1 = y_train_full[:55000]\n",
    "X_train2 = X_train_full[55000:]\n",
    "y_train2 = y_train_full[55000:]"
   ]
  },
  {
   "cell_type": "code",
   "execution_count": 58,
   "id": "94cda7b6-645a-4ece-beb0-3bc75b532e27",
   "metadata": {},
   "outputs": [],
   "source": [
    "# Define a function to generate a training batch where each instance is a pair of MNIST images\n",
    "def generate_batch(batch_size):\n",
    "    X_batch1 = np.empty((batch_size, 28, 28), dtype=np.float32)\n",
    "    X_batch2 = np.empty((batch_size, 28, 28), dtype=np.float32)\n",
    "    y_batch = np.empty((batch_size, 1), dtype=np.int32)\n",
    "    for i in range(batch_size):\n",
    "        index1 = np.random.randint(len(X_train1))\n",
    "        X_batch1[i] = X_train1[index1]\n",
    "        if i % 2 == 0:\n",
    "            # Images from the same class\n",
    "            index2 = index1\n",
    "            while index2 == index1:\n",
    "                index2 = np.random.randint(len(X_train1))\n",
    "                if y_train1[index2] == y_train1[index1]:\n",
    "                    break\n",
    "            y_batch[i] = 0\n",
    "        else:\n",
    "            # Images from different classes\n",
    "            index2 = index1\n",
    "            while index2 == index1 or y_train1[index2] == y_train1[index1]:\n",
    "                index2 = np.random.randint(len(X_train1))\n",
    "            y_batch[i] = 1\n",
    "        X_batch2[i] = X_train1[index2]\n",
    "    return [X_batch1, X_batch2], y_batch"
   ]
  },
  {
   "cell_type": "code",
   "execution_count": 59,
   "id": "87f2f641-7fe1-435a-ab67-0ef621948476",
   "metadata": {},
   "outputs": [],
   "source": [
    "# Build two DNNs (let’s call them DNN A and B), both similar to the one you built earlier but without the output layer\n",
    "def build_dnn():\n",
    "    model = keras.models.Sequential()\n",
    "    model.add(keras.layers.Flatten(input_shape=[28, 28]))\n",
    "    for _ in range(5):\n",
    "        model.add(keras.layers.Dense(100, activation=\"elu\", kernel_initializer=\"he_normal\"))\n",
    "    return model\n",
    "\n",
    "dnn_a = build_dnn()\n",
    "dnn_b = build_dnn()"
   ]
  },
  {
   "cell_type": "code",
   "execution_count": 60,
   "id": "5e28ea00-2980-41a0-b3ee-90734fcad7cb",
   "metadata": {},
   "outputs": [],
   "source": [
    "# Add one more hidden layer with 10 units on top of both DNNs\n",
    "merged_output = keras.layers.concatenate([dnn_a.output, dnn_b.output])\n",
    "hidden_layer = keras.layers.Dense(10, activation=\"elu\", kernel_initializer=\"he_normal\")(merged_output)"
   ]
  },
  {
   "cell_type": "code",
   "execution_count": 61,
   "id": "07b7e011-5935-4534-9bdd-9665acdef9fa",
   "metadata": {},
   "outputs": [],
   "source": [
    "# Add an output layer with a single neuron using the logistic activation function\n",
    "output_layer = keras.layers.Dense(1, activation=\"sigmoid\")(hidden_layer)"
   ]
  },
  {
   "cell_type": "code",
   "execution_count": 62,
   "id": "b94818b4-9e61-47ff-a8ff-2451889098ec",
   "metadata": {},
   "outputs": [],
   "source": [
    "# Create a new model that takes two MNIST images as inputs and outputs a single value representing whether the images belong to the same class or not\n",
    "model = keras.models.Model(inputs=[dnn_a.input, dnn_b.input], outputs=[output_layer])"
   ]
  },
  {
   "cell_type": "code",
   "execution_count": 63,
   "id": "095fc215-8111-4b20-958e-9eba470f8730",
   "metadata": {},
   "outputs": [],
   "source": [
    "# Compile the model\n",
    "model.compile(loss=\"binary_crossentropy\", optimizer=\"nadam\", metrics=[\"accuracy\"])"
   ]
  },
  {
   "cell_type": "code",
   "execution_count": 64,
   "id": "00018021-8e14-48a6-864f-cf599bfdc51c",
   "metadata": {},
   "outputs": [],
   "source": [
    "# Train the DNN on this training set\n",
    "batch_size = 32\n",
    "for epoch in range(10):\n",
    "    for iteration in range(len(X_train1) // batch_size):\n",
    "        X_batch, y_batch = generate_batch(batch_size)\n",
    "        model.train_on_batch(X_batch, y_batch)"
   ]
  },
  {
   "cell_type": "code",
   "execution_count": 65,
   "id": "991c4dc4-97b1-4ab8-945b-11301ce27d17",
   "metadata": {},
   "outputs": [],
   "source": [
    "# Create a new DNN by reusing and freezing the hidden layers of DNN A and adding a softmax output layer on top with 10 neurons\n",
    "new_model = keras.models.Sequential(dnn_a.layers[:-1])\n",
    "for layer in new_model.layers:\n",
    "    layer.trainable = False\n",
    "\n",
    "new_model.add(keras.layers.Dense(10, activation=\"softmax\"))"
   ]
  },
  {
   "cell_type": "code",
   "execution_count": 66,
   "id": "1ef312db-9b89-458c-85ee-8c8a50ab4afa",
   "metadata": {},
   "outputs": [],
   "source": [
    "# Compile the new model\n",
    "new_model.compile(loss=\"sparse_categorical_crossentropy\", optimizer=\"nadam\", metrics=[\"accuracy\"])"
   ]
  },
  {
   "cell_type": "code",
   "execution_count": 67,
   "id": "d2546982-89dd-43ba-95bb-bfdbadf30c18",
   "metadata": {},
   "outputs": [
    {
     "name": "stdout",
     "output_type": "stream",
     "text": [
      "Epoch 1/10\n",
      "157/157 [==============================] - 1s 2ms/step - loss: 2.5389 - accuracy: 0.2322\n",
      "Epoch 2/10\n",
      "157/157 [==============================] - 0s 2ms/step - loss: 2.0587 - accuracy: 0.2986\n",
      "Epoch 3/10\n",
      "157/157 [==============================] - 0s 2ms/step - loss: 1.9711 - accuracy: 0.3330\n",
      "Epoch 4/10\n",
      "157/157 [==============================] - 0s 2ms/step - loss: 1.9017 - accuracy: 0.3498\n",
      "Epoch 5/10\n",
      "157/157 [==============================] - 0s 2ms/step - loss: 1.8487 - accuracy: 0.3688\n",
      "Epoch 6/10\n",
      "157/157 [==============================] - 0s 2ms/step - loss: 1.8073 - accuracy: 0.3806\n",
      "Epoch 7/10\n",
      "157/157 [==============================] - 0s 2ms/step - loss: 1.7714 - accuracy: 0.3846\n",
      "Epoch 8/10\n",
      "157/157 [==============================] - 0s 2ms/step - loss: 1.7435 - accuracy: 0.3988\n",
      "Epoch 9/10\n",
      "157/157 [==============================] - 0s 2ms/step - loss: 1.7160 - accuracy: 0.4028\n",
      "Epoch 10/10\n",
      "157/157 [==============================] - 0s 2ms/step - loss: 1.6929 - accuracy: 0.4156\n"
     ]
    }
   ],
   "source": [
    "# Train this network on split #2 and see if you can achieve high performance despite having only 500 images per class\n",
    "history = new_model.fit(X_train2, y_train2, epochs=10)"
   ]
  },
  {
   "cell_type": "code",
   "execution_count": 68,
   "id": "b78012b7-ca8f-4fa9-8592-28fc2083f5a8",
   "metadata": {},
   "outputs": [
    {
     "name": "stdout",
     "output_type": "stream",
     "text": [
      "313/313 [==============================] - 1s 2ms/step - loss: 1.7199 - accuracy: 0.3922\n",
      "Test accuracy: 0.3921999931335449\n"
     ]
    }
   ],
   "source": [
    "# Evaluate the trained model on the test set\n",
    "test_loss, test_acc = new_model.evaluate(X_test, y_test)\n",
    "print(f\"Test accuracy: {test_acc}\")"
   ]
  },
  {
   "cell_type": "code",
   "execution_count": null,
   "id": "bd3c0ed9-1024-4f5b-b743-ac49f2f8d2b0",
   "metadata": {},
   "outputs": [],
   "source": []
  }
 ],
 "metadata": {
  "kernelspec": {
   "display_name": "Python 3 (ipykernel)",
   "language": "python",
   "name": "python3"
  },
  "language_info": {
   "codemirror_mode": {
    "name": "ipython",
    "version": 3
   },
   "file_extension": ".py",
   "mimetype": "text/x-python",
   "name": "python",
   "nbconvert_exporter": "python",
   "pygments_lexer": "ipython3",
   "version": "3.10.10"
  }
 },
 "nbformat": 4,
 "nbformat_minor": 5
}
