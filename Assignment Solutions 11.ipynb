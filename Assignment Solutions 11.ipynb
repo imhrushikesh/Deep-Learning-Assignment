{
 "cells": [
  {
   "cell_type": "markdown",
   "id": "3c6edecd-2c26-4a99-a964-c8704f982869",
   "metadata": {},
   "source": [
    "# Assignment 11 Solution"
   ]
  },
  {
   "cell_type": "markdown",
   "id": "7f8eac7a-155f-4253-bd96-775b7fdb44ad",
   "metadata": {},
   "source": [
    "**1. Write the Python code to implement a single neuron.**\n",
    "\n",
    "**Ans:**"
   ]
  },
  {
   "cell_type": "code",
   "execution_count": 30,
   "id": "46178300-08cc-4aa2-ba1f-647635b4f94c",
   "metadata": {},
   "outputs": [],
   "source": [
    "import numpy as np"
   ]
  },
  {
   "cell_type": "code",
   "execution_count": 31,
   "id": "137df540-bd9e-4018-bc17-d21981ca1ea3",
   "metadata": {},
   "outputs": [],
   "source": [
    "class Neuron:\n",
    "    def __init__(self, input_size):\n",
    "        self.weights = np.random.rand(input_size)\n",
    "        self.bias = np.random.rand()\n",
    "    \n",
    "    def forward(self, inputs):\n",
    "        z = np.dot(inputs, self.weights) + self.bias\n",
    "        a = self.activation_function(z)\n",
    "        return a\n",
    "    \n",
    "    def activation_function(self, x):\n",
    "        return 1 / (1 + np.exp(-x))"
   ]
  },
  {
   "cell_type": "code",
   "execution_count": 32,
   "id": "d4d8e109-b4b8-4550-b148-929a22309e28",
   "metadata": {},
   "outputs": [],
   "source": [
    "# create a neuron with 2 inputs\n",
    "neuron = Neuron(2)"
   ]
  },
  {
   "cell_type": "code",
   "execution_count": 33,
   "id": "294cbb97-749b-4c86-aaed-28b36f655bcf",
   "metadata": {},
   "outputs": [
    {
     "name": "stdin",
     "output_type": "stream",
     "text": [
      "Enter input 1:  2\n",
      "Enter input 2:  2\n"
     ]
    }
   ],
   "source": [
    "# get input values from the user\n",
    "input1 = float(input(\"Enter input 1: \"))\n",
    "input2 = float(input(\"Enter input 2: \"))"
   ]
  },
  {
   "cell_type": "code",
   "execution_count": 34,
   "id": "9311d3e2-7e0e-4bbc-a387-48e1192d6463",
   "metadata": {},
   "outputs": [],
   "source": [
    "# make a prediction based on the inputs\n",
    "inputs = np.array([input1, input2])\n",
    "output = neuron.forward(inputs)"
   ]
  },
  {
   "cell_type": "code",
   "execution_count": 35,
   "id": "00ea11bb-25e1-4f60-8103-88ebaeb09f3d",
   "metadata": {},
   "outputs": [
    {
     "name": "stdout",
     "output_type": "stream",
     "text": [
      "The predicted output is: 0.9482474125270014\n"
     ]
    }
   ],
   "source": [
    "print(\"The predicted output is:\", output)"
   ]
  },
  {
   "cell_type": "markdown",
   "id": "ed4589ec-2b10-4496-9e43-0e1260b8087f",
   "metadata": {},
   "source": [
    "**2. Write the Python code to implement ReLU.**\n",
    "\n",
    "**Ans:**"
   ]
  },
  {
   "cell_type": "code",
   "execution_count": 36,
   "id": "e53cfd94-2703-4051-9851-be5647f26516",
   "metadata": {},
   "outputs": [],
   "source": [
    "import numpy as np"
   ]
  },
  {
   "cell_type": "code",
   "execution_count": 37,
   "id": "c758e3b5-82bc-4525-be36-392bf993ca13",
   "metadata": {},
   "outputs": [],
   "source": [
    "def relu(x):\n",
    "    return np.maximum(0, x)"
   ]
  },
  {
   "cell_type": "code",
   "execution_count": 41,
   "id": "b6e1c492-50e6-4df4-a519-7fa26c136096",
   "metadata": {},
   "outputs": [
    {
     "name": "stdin",
     "output_type": "stream",
     "text": [
      "Enter a value for x:  3\n"
     ]
    }
   ],
   "source": [
    "# get input value from the user\n",
    "x = float(input(\"Enter a value for x: \"))"
   ]
  },
  {
   "cell_type": "code",
   "execution_count": 42,
   "id": "0ae3b16c-f2e6-4939-8a42-bf52f2f36ad1",
   "metadata": {},
   "outputs": [],
   "source": [
    "# apply ReLU to the input value\n",
    "output = relu(x)"
   ]
  },
  {
   "cell_type": "code",
   "execution_count": 43,
   "id": "eacd7ca4-a743-4925-828b-389d4ba59a5c",
   "metadata": {},
   "outputs": [
    {
     "name": "stdout",
     "output_type": "stream",
     "text": [
      "The output of ReLU applied to 3.0 is: 3.0\n"
     ]
    }
   ],
   "source": [
    "print(\"The output of ReLU applied to\", x, \"is:\", output)"
   ]
  },
  {
   "cell_type": "markdown",
   "id": "727f4ade-2633-4146-aef3-2ae3cc34dd3f",
   "metadata": {},
   "source": [
    "**3. Write the Python code for a dense layer in terms of matrix multiplication.**\n",
    "\n",
    "**Ans:**"
   ]
  },
  {
   "cell_type": "code",
   "execution_count": 44,
   "id": "bbb0834e-484e-48e0-9796-ff037548ef8d",
   "metadata": {},
   "outputs": [],
   "source": [
    "import numpy as np"
   ]
  },
  {
   "cell_type": "code",
   "execution_count": 45,
   "id": "9aecb041-f50f-41be-b08a-efc50b3ccead",
   "metadata": {},
   "outputs": [],
   "source": [
    "class DenseLayer:\n",
    "    def __init__(self, input_size, output_size):\n",
    "        self.weights = np.random.rand(input_size, output_size)\n",
    "        self.bias = np.random.rand(output_size)\n",
    "    \n",
    "    def forward(self, inputs):\n",
    "        z = np.dot(inputs, self.weights) + self.bias\n",
    "        return z"
   ]
  },
  {
   "cell_type": "code",
   "execution_count": 46,
   "id": "bd4aeb7c-6d52-4f5d-82a8-0adedf692b03",
   "metadata": {},
   "outputs": [],
   "source": [
    "# create a dense layer with 2 inputs and 3 outputs\n",
    "layer = DenseLayer(2, 3)"
   ]
  },
  {
   "cell_type": "code",
   "execution_count": 47,
   "id": "e12b2d31-72cc-4cce-a80b-fca0f5fa785c",
   "metadata": {},
   "outputs": [
    {
     "name": "stdin",
     "output_type": "stream",
     "text": [
      "Enter input 1:  2\n",
      "Enter input 2:  3\n"
     ]
    }
   ],
   "source": [
    "# get input values from the user\n",
    "input1 = float(input(\"Enter input 1: \"))\n",
    "input2 = float(input(\"Enter input 2: \"))"
   ]
  },
  {
   "cell_type": "code",
   "execution_count": 48,
   "id": "5eb3b0b0-997e-4234-b84f-26d65b17bc9d",
   "metadata": {},
   "outputs": [],
   "source": [
    "# make a prediction based on the inputs\n",
    "inputs = np.array([input1, input2])\n",
    "output = layer.forward(inputs)"
   ]
  },
  {
   "cell_type": "code",
   "execution_count": 49,
   "id": "8568c978-b638-461b-88d5-d4fa75154ff5",
   "metadata": {},
   "outputs": [
    {
     "name": "stdout",
     "output_type": "stream",
     "text": [
      "The predicted output is: [2.28748129 2.90886387 2.2173601 ]\n"
     ]
    }
   ],
   "source": [
    "print(\"The predicted output is:\", output)"
   ]
  },
  {
   "cell_type": "markdown",
   "id": "a59405e1-74d9-4b43-aad2-dfc1448b2ecc",
   "metadata": {},
   "source": [
    "**4. Write the Python code for a dense layer in plain Python (that is, with list comprehensions and functionality built into Python).**\n",
    "\n",
    "**Ans:**"
   ]
  },
  {
   "cell_type": "code",
   "execution_count": 50,
   "id": "1cf5255a-6ab4-4e20-be89-8eee78ce4e93",
   "metadata": {},
   "outputs": [],
   "source": [
    "import random"
   ]
  },
  {
   "cell_type": "code",
   "execution_count": 51,
   "id": "8a204b6f-287d-4a57-b9f2-138eb5836f7f",
   "metadata": {},
   "outputs": [],
   "source": [
    "class DenseLayer:\n",
    "    def __init__(self, input_size, output_size):\n",
    "        self.weights = [[random.random() for _ in range(output_size)] for _ in range(input_size)]\n",
    "        self.bias = [random.random() for _ in range(output_size)]\n",
    "    \n",
    "    def forward(self, inputs):\n",
    "        z = [sum([inputs[i] * self.weights[i][j] for i in range(len(inputs))]) + self.bias[j] for j in range(len(self.bias))]\n",
    "        return z"
   ]
  },
  {
   "cell_type": "code",
   "execution_count": 52,
   "id": "b19ea9bf-a1de-45ae-9cfc-a059c7e56da4",
   "metadata": {},
   "outputs": [],
   "source": [
    "# create a dense layer with 2 inputs and 3 outputs\n",
    "layer = DenseLayer(2, 3)"
   ]
  },
  {
   "cell_type": "code",
   "execution_count": 53,
   "id": "d7c7e939-3820-4c62-acdc-526819e05249",
   "metadata": {},
   "outputs": [
    {
     "name": "stdin",
     "output_type": "stream",
     "text": [
      "Enter input 1:  2\n",
      "Enter input 2:  3\n"
     ]
    }
   ],
   "source": [
    "# get input values from the user\n",
    "input1 = float(input(\"Enter input 1: \"))\n",
    "input2 = float(input(\"Enter input 2: \"))"
   ]
  },
  {
   "cell_type": "code",
   "execution_count": 54,
   "id": "6851b4c9-5408-484a-8c02-aece8dbac264",
   "metadata": {},
   "outputs": [],
   "source": [
    "# make a prediction based on the inputs\n",
    "inputs = [input1, input2]\n",
    "output = layer.forward(inputs)"
   ]
  },
  {
   "cell_type": "code",
   "execution_count": 55,
   "id": "331cf7c1-0143-4d74-811e-1cb2bce8ec56",
   "metadata": {},
   "outputs": [
    {
     "name": "stdout",
     "output_type": "stream",
     "text": [
      "The predicted output is: [4.628153138052391, 3.711039379871884, 2.8208856719785897]\n"
     ]
    }
   ],
   "source": [
    "print(\"The predicted output is:\", output)"
   ]
  },
  {
   "cell_type": "markdown",
   "id": "28e81074-8a65-407f-a49a-67312ad4e0d7",
   "metadata": {},
   "source": [
    "**5. What is the “hidden size” of a layer?**\n",
    "\n",
    "**Ans:** The \"hidden size\" of a layer refers to the number of neurons in that layer. In other words, it is the number of nodes in the layer that are not directly connected to the input or output layers.\n",
    "\n",
    "For example, in a neural network with an input layer, an output layer, and a single hidden layer, the hidden size of that layer would refer to the number of neurons in the hidden layer. The input and output layers have a fixed size determined by the input and output of the task being performed, but the number of neurons in the hidden layer can vary and is typically chosen by the user based on the complexity of the task.\n",
    "\n",
    "The hidden size of a layer is an important hyperparameter that can affect the performance of a neural network. A larger hidden size may allow the network to learn more complex features, but may also increase the risk of overfitting. On the other hand, a smaller hidden size may simplify the network and reduce the risk of overfitting, but may not be able to learn as complex of features."
   ]
  },
  {
   "cell_type": "markdown",
   "id": "95b5936c-2da9-4fa8-9940-a7fe16116e54",
   "metadata": {},
   "source": [
    "**6. What does the t method do in PyTorch?**\n",
    "\n",
    "**Ans:**\n",
    "\n",
    "In PyTorch, the t() method is used to transpose a tensor.\n",
    "\n",
    "A tensor in PyTorch is a multi-dimensional array, similar to a NumPy array. Transposing a tensor means to swap its rows and columns, effectively rotating the tensor. For example, if we have a 2-dimensional tensor t with shape (3, 4), transposing it would result in a tensor with shape (4, 3).\n",
    "\n",
    "Here's an example of using the t() method in PyTorch:"
   ]
  },
  {
   "cell_type": "code",
   "execution_count": 56,
   "id": "813cc960-7244-40b7-91a2-5cd6be6730ca",
   "metadata": {},
   "outputs": [],
   "source": [
    "import torch"
   ]
  },
  {
   "cell_type": "code",
   "execution_count": 57,
   "id": "af4a5d30-fd7d-44b9-ad87-6d9b7a629588",
   "metadata": {},
   "outputs": [],
   "source": [
    "# create a 2-dimensional tensor\n",
    "t = torch.tensor([[1, 2, 3], [4, 5, 6]])"
   ]
  },
  {
   "cell_type": "code",
   "execution_count": 60,
   "id": "5bf757e3-e92d-4885-b4b9-efc1297d073d",
   "metadata": {},
   "outputs": [
    {
     "name": "stdout",
     "output_type": "stream",
     "text": [
      "Original tensor:\n",
      "tensor([[1, 2, 3],\n",
      "        [4, 5, 6]])\n"
     ]
    }
   ],
   "source": [
    "# print the original tensor\n",
    "print(\"Original tensor:\")\n",
    "print(t)"
   ]
  },
  {
   "cell_type": "code",
   "execution_count": 61,
   "id": "3691d633-7b8a-430d-83b4-1ecda8bb4170",
   "metadata": {},
   "outputs": [],
   "source": [
    "# transpose the tensor\n",
    "t_transposed = t.t()"
   ]
  },
  {
   "cell_type": "code",
   "execution_count": 62,
   "id": "c46807ab-ea0d-4df7-ba0b-e6b07e1a3cb1",
   "metadata": {},
   "outputs": [
    {
     "name": "stdout",
     "output_type": "stream",
     "text": [
      "Transposed tensor:\n",
      "tensor([[1, 4],\n",
      "        [2, 5],\n",
      "        [3, 6]])\n"
     ]
    }
   ],
   "source": [
    "# print the transposed tensor\n",
    "print(\"Transposed tensor:\")\n",
    "print(t_transposed)"
   ]
  },
  {
   "cell_type": "markdown",
   "id": "ddf73964-e1d3-497e-9e74-8b1f01a7ee30",
   "metadata": {},
   "source": [
    "**7. Why is matrix multiplication written in plain Python very slow?**\n",
    "\n",
    "**Ans:** Matrix multiplication involves a large number of arithmetic operations, and performing those operations using the basic Python operations can be slow because Python is an interpreted language, which means that it has to interpret and execute each line of code at runtime. This can lead to a significant overhead when working with large matrices.\n",
    "\n",
    "Moreover, the built-in data structures in Python, such as lists or tuples, are not optimized for numerical operations and lack the efficient memory access patterns that are required for efficient matrix multiplication.\n",
    "\n",
    "In contrast, specialized numerical libraries such as NumPy or TensorFlow are written in optimized C or Fortran code, which allows for much faster execution of numerical operations. They also offer various optimizations such as parallelism, vectorization, and caching, which further improve the performance of matrix multiplication.\n",
    "\n",
    "Therefore, if you need to perform matrix multiplication, it's recommended to use a specialized library such as NumPy, which provides optimized functions for matrix operations and can execute them much faster than plain Python.\n",
    "\n",
    "**8. In matmul, why is ac==br?**\n",
    "\n",
    "**Ans:** In matrix multiplication, two matrices A and B can be multiplied only if the number of columns of A (denoted by 'c') is equal to the number of rows of B (denoted by 'r').\n",
    "\n",
    "When we write matmul(A,B), A is assumed to be a matrix of shape (a, c) and B is assumed to be a matrix of shape (c, b). The resulting matrix C from the matrix multiplication of A and B would have the shape (a, b).\n",
    "\n",
    "The element at row 'i' and column 'j' in C can be calculated by taking the dot product of the i-th row of A and the j-th column of B. This requires that the length of the row in A (i.e., 'c') must be equal to the length of the column in B (also 'c'). Therefore, we have the requirement that ac == br in order to perform matrix multiplication using matmul.\n",
    "\n",
    "In summary, the requirement ac == br ensures that the matrices can be multiplied according to the rules of matrix multiplication, and that the resulting matrix has the expected shape.\n",
    "\n",
    "**9. In Jupyter Notebook, how do you measure the time taken for a single cell to execute?**\n",
    "\n",
    "**Ans:** To measure the time taken for a single cell to execute in a Jupyter Notebook, you can use the %%timeit magic command. This command runs the cell multiple times and provides the average time taken for the cell to execute.\n",
    "\n",
    "To use the %%timeit command, you simply need to add it at the beginning of the cell you want to time. For example:\n",
    "\n",
    "%%timeit\n",
    "\n",
    "# Your code here\n",
    "\n",
    "Once you run the cell with the %%timeit command, Jupyter Notebook will execute the cell multiple times with different inputs and record the time taken for each execution. It will then calculate the average time taken and display it along with other statistics such as standard deviation and confidence intervals.\n",
    "\n",
    "Alternatively, you can also use the %time command to measure the time taken for a single execution of a cell. This command provides more detailed information than %%timeit, but it only runs the cell once. To use %time, simply add it at the beginning of the cell you want to time, like this:\n",
    "\n",
    "%time\n",
    "\n",
    "# Your code here\n",
    "\n",
    "After running the cell with %time, Jupyter Notebook will display the time taken for the cell to execute, along with other detailed information about the execution, such as CPU time and memory usage.\n",
    "\n",
    "**10. What is elementwise arithmetic?**\n",
    "\n",
    "**Ans:** Elementwise arithmetic refers to performing arithmetic operations on the corresponding elements of two or more arrays or matrices. In elementwise arithmetic, each element of one array is paired with the corresponding element of another array, and the arithmetic operation is performed on those pairs of elements.\n",
    "\n",
    "For example, given two arrays A and B, elementwise addition would involve adding each element of A to the corresponding element of B, resulting in a new array C where each element is the sum of the corresponding elements in A and B.\n",
    "\n",
    "Elementwise arithmetic is commonly used in numerical computations, particularly in linear algebra and machine learning. In Python, libraries such as NumPy provide efficient support for elementwise arithmetic operations on arrays and matrices.\n",
    "\n",
    "Elementwise arithmetic is different from matrix multiplication, where each element in the resulting matrix is the sum of the products of the corresponding elements of two input matrices. In matrix multiplication, the input matrices must have compatible shapes, whereas in elementwise arithmetic, the input arrays must have the same shape.\n",
    "\n",
    "**11. Write the PyTorch code to test whether every element of a is greater than the corresponding element of b.**\n",
    "\n",
    "**Ans:**"
   ]
  },
  {
   "cell_type": "code",
   "execution_count": 63,
   "id": "a7e1318f-08a6-4f28-8c15-5bdd7604870f",
   "metadata": {},
   "outputs": [],
   "source": [
    "import torch"
   ]
  },
  {
   "cell_type": "code",
   "execution_count": 64,
   "id": "9859db1d-54c4-42ca-a134-d657b5ad9c9c",
   "metadata": {},
   "outputs": [],
   "source": [
    "a = torch.tensor([1, 2, 3])\n",
    "b = torch.tensor([0, 2, 2])"
   ]
  },
  {
   "cell_type": "code",
   "execution_count": 65,
   "id": "0689090e-7ffa-4209-a6a9-9fd3606899c8",
   "metadata": {},
   "outputs": [],
   "source": [
    "result = torch.gt(a, b)"
   ]
  },
  {
   "cell_type": "code",
   "execution_count": 66,
   "id": "5bdaba08-e63f-4e43-a112-1aeebe0a6319",
   "metadata": {},
   "outputs": [
    {
     "name": "stdout",
     "output_type": "stream",
     "text": [
      "Not all elements of a are greater than b\n",
      "Indices where the condition fails:  (tensor([1]),)\n"
     ]
    }
   ],
   "source": [
    "if torch.all(result):\n",
    "    print(\"All elements of a are greater than b\")\n",
    "else:\n",
    "    print(\"Not all elements of a are greater than b\")\n",
    "    print(\"Indices where the condition fails: \", torch.where(result == False))"
   ]
  },
  {
   "cell_type": "markdown",
   "id": "ab238e7c-6481-4389-8be8-cddba69d9e3a",
   "metadata": {},
   "source": [
    "**12. What is a rank-0 tensor? How do you convert it to a plain Python data type?**\n",
    "\n",
    "**Ans:** A rank-0 tensor is a tensor with zero dimensions, also known as a scalar or a 0-d tensor. It represents a single numerical value, such as an integer or a floating-point number.\n",
    "\n",
    "In PyTorch, a rank-0 tensor is created using the torch.tensor() function with a single argument, which is the scalar value:"
   ]
  },
  {
   "cell_type": "code",
   "execution_count": 67,
   "id": "89539bca-cdcd-4675-80ac-04f1d195a1dc",
   "metadata": {},
   "outputs": [
    {
     "name": "stdout",
     "output_type": "stream",
     "text": [
      "tensor(42)\n"
     ]
    }
   ],
   "source": [
    "import torch\n",
    "\n",
    "x = torch.tensor(42)\n",
    "print(x)"
   ]
  },
  {
   "cell_type": "markdown",
   "id": "38b9b1c9-8762-4add-b4cc-67717f1271d3",
   "metadata": {},
   "source": [
    "This creates a rank-0 tensor x with the value of 42.\n",
    "\n",
    "To convert a rank-0 tensor to a plain Python data type, you can use the .item() method. This method returns the scalar value of the tensor as a Python primitive type, such as an integer or a floating-point number:"
   ]
  },
  {
   "cell_type": "code",
   "execution_count": 68,
   "id": "8666e0e4-26a9-4d7f-9e08-0ee0cb19383a",
   "metadata": {},
   "outputs": [],
   "source": [
    "import torch"
   ]
  },
  {
   "cell_type": "code",
   "execution_count": 69,
   "id": "54af40fa-1c42-474f-b44c-b820eda3f638",
   "metadata": {},
   "outputs": [
    {
     "name": "stdout",
     "output_type": "stream",
     "text": [
      "<class 'int'>\n",
      "42\n"
     ]
    }
   ],
   "source": [
    "x = torch.tensor(42)\n",
    "y = x.item()\n",
    "print(type(y))\n",
    "print(y)"
   ]
  },
  {
   "cell_type": "markdown",
   "id": "a297086a-e88c-408c-8a6f-1f3677d58173",
   "metadata": {},
   "source": [
    "In this example, y is assigned the value of 42 as a plain Python integer. The type(y) call confirms that y is a Python integer. Note that the .item() method only works on rank-0 tensors, and will raise an error if called on tensors with higher rank.\n",
    "\n",
    "**13. How does elementwise arithmetic help us speed up matmul?**\n",
    "\n",
    "**Ans:** Element-wise arithmetic can help speed up matrix multiplication by reducing the number of operations required to compute the result. Specifically, element-wise arithmetic can be used to implement a faster version of matrix multiplication known as “broadcasting matrix multiplication.”\n",
    "\n",
    "In broadcasting matrix multiplication, the two matrices being multiplied are broadcasted to have the same shape. This allows us to perform element-wise multiplication between the two matrices, followed by a sum along one of the axes to compute the final result.\n",
    "\n",
    "This approach can be much faster than traditional matrix multiplication because it takes advantage of the parallel processing capabilities of modern hardware. By performing many element-wise operations in parallel, we can significantly reduce the time it takes to compute the result of a matrix multiplication.\n",
    "\n",
    "Here’s an example that shows how element-wise arithmetic can be used to implement a faster version of matrix multiplication:\n",
    "\n",
    "**14. What are the broadcasting rules?**\n",
    "\n",
    "**Ans:** Broadcasting is a powerful mechanism in NumPy and PyTorch that allows you to perform operations between tensors of different shapes. The broadcasting rules determine how tensors with different shapes are treated during arithmetic operations.\n",
    "\n",
    "Here are the broadcasting rules:\n",
    "\n",
    "If the two tensors have different numbers of dimensions, the shape of the tensor with fewer dimensions is padded with ones on its leading (left) side.\n",
    "\n",
    "If the shape of the two tensors does not match in any dimension, the tensor with shape equal to 1 in that dimension is stretched to match the other shape.\n",
    "\n",
    "If in any dimension the sizes disagree and neither is equal to 1, an error is raised.\n",
    "\n",
    "These rules allow you to perform element-wise operations between tensors of different shapes in a flexible and intuitive manner."
   ]
  },
  {
   "cell_type": "code",
   "execution_count": 70,
   "id": "99561910-d29e-453e-89c5-8c624c5863dc",
   "metadata": {},
   "outputs": [
    {
     "name": "stdout",
     "output_type": "stream",
     "text": [
      "tensor([[19, 22],\n",
      "        [43, 50]])\n"
     ]
    }
   ],
   "source": [
    "import torch\n",
    "\n",
    "# Create two matrices\n",
    "a = torch.tensor([[1, 2], [3, 4]])\n",
    "b = torch.tensor([[5, 6], [7, 8]])\n",
    "\n",
    "# Compute the result of matrix multiplication using broadcasting and element-wise arithmetic\n",
    "result = (a.unsqueeze(-1) * b.unsqueeze(0)).sum(dim=1)\n",
    "\n",
    "print(result)"
   ]
  },
  {
   "cell_type": "markdown",
   "id": "d1fbfef7-fccc-41f7-a4ce-0048743507b3",
   "metadata": {},
   "source": [
    "In this example, we use unsqueeze to add an extra dimension to a and b, allowing us to broadcast them to have the same shape. We then perform element-wise multiplication between a and b, followed by a sum along dimension 1 to compute the final result. This approach is much faster than traditional matrix multiplication for large matrices.\n",
    "\n",
    "**15. What is expand_as? Show an example of how it can be used to match the results of broadcasting.**\n",
    "\n",
    "**Ans:** expand_as is a PyTorch tensor method that allows you to expand a tensor to the size of another tensor. This can be useful when you want to perform operations between tensors of different sizes that are not broadcastable.\n",
    "\n",
    "Here’s an example that shows how expand_as can be used to match the results of broadcasting:"
   ]
  },
  {
   "cell_type": "code",
   "execution_count": 71,
   "id": "399005c6-a5dc-4e29-aa4f-386b4c97debe",
   "metadata": {},
   "outputs": [
    {
     "name": "stdout",
     "output_type": "stream",
     "text": [
      "tensor([[5, 6, 7],\n",
      "        [6, 7, 8],\n",
      "        [7, 8, 9]])\n"
     ]
    }
   ],
   "source": [
    "import torch\n",
    "\n",
    "# Create two tensors of different sizes\n",
    "x = torch.tensor([[1], [2], [3]])\n",
    "y = torch.tensor([4, 5, 6])\n",
    "\n",
    "# Use expand_as to expand x to the size of the result of broadcasting x and y\n",
    "x_expanded = x.expand_as(x + y)\n",
    "\n",
    "# Perform element-wise addition between x_expanded and y\n",
    "result = x_expanded + y\n",
    "\n",
    "print(result)"
   ]
  },
  {
   "cell_type": "code",
   "execution_count": null,
   "id": "f95b63e3-ad15-4325-820e-cf1adadc2b62",
   "metadata": {},
   "outputs": [],
   "source": []
  }
 ],
 "metadata": {
  "kernelspec": {
   "display_name": "Python 3 (ipykernel)",
   "language": "python",
   "name": "python3"
  },
  "language_info": {
   "codemirror_mode": {
    "name": "ipython",
    "version": 3
   },
   "file_extension": ".py",
   "mimetype": "text/x-python",
   "name": "python",
   "nbconvert_exporter": "python",
   "pygments_lexer": "ipython3",
   "version": "3.10.10"
  }
 },
 "nbformat": 4,
 "nbformat_minor": 5
}
