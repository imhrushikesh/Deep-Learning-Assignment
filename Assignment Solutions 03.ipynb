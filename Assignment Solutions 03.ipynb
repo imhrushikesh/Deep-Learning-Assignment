{
 "cells": [
  {
   "cell_type": "markdown",
   "id": "61df4748-dd69-4961-a837-bd1101d4865e",
   "metadata": {},
   "source": [
    "# Assignment 3 Solution"
   ]
  },
  {
   "cell_type": "markdown",
   "id": "c5435f24-7c16-436c-a0ea-994577c92c26",
   "metadata": {},
   "source": [
    "## 1. Is it OK to initialize all the weights to the same value as long as that value is selected randomly using He initialization?\n",
    "\n",
    "**Ans:**\n",
    "\n",
    "2. Is it OK to initialize the bias terms to 0?\n",
    "3. Name three advantages of the SELU activation function over ReLU.\n",
    "4. In which cases would you want to use each of the following activation functions: SELU, leaky\n",
    "\n",
    "ReLU (and its variants), ReLU, tanh, logistic, and softmax? 5. What may happen if you set the momentum hyperparameter too close to 1 (e.g., 0.99999) when using an SGD optimizer? 6. Name three ways you can produce a sparse model. 7. Does dropout slow down training? Does it slow down inference (i.e., making predictions on new instances)? What about MC Dropout? 8. Practice training a deep neural network on the CIFAR10 image dataset: a. Build a DNN with 20 hidden layers of 100 neurons each (that’s too many, but it’s the point of this exercise). Use He initialization and the ELU activation function. b. Using Nadam optimization and early stopping, train the network on the CIFAR10 dataset. You can load it with keras.datasets.cifar10.load_​data(). The dataset is composed of 60,000 32 × 32–pixel color images (50,000 for training, 10,000 for testing) with 10 classes, so you’ll need a softmax output layer with 10 neurons. Remember to search for the right learning rate each time you change the model’s architecture or hyperparameters. c. Now try adding Batch Normalization and compare the learning curves: Is it converging faster than before? Does it produce a better model? How does it affect training speed? d. Try replacing Batch Normalization with SELU, and make the necessary adjustements to ensure the network self-normalizes (i.e., standardize the input features, use LeCun normal initialization, make sure the DNN contains only a sequence of dense layers, etc.). e. Try regularizing the model with alpha dropout. Then, without retraining your model, see if you can achieve better accuracy using MC Dropout."
   ]
  },
  {
   "cell_type": "markdown",
   "id": "e09e2020-9bfd-47b2-95a1-46d189f81a22",
   "metadata": {},
   "source": [
    "## 2. Is it OK to initialize the bias terms to 0?\n",
    "\n",
    "**Ans:** Yes, it is generally acceptable to initialize the bias terms to 0. However, it is important to note that other values may result in better performance, depending on the type of model and data."
   ]
  },
  {
   "cell_type": "markdown",
   "id": "dbcc08ee-94ea-4b6c-b4c7-725f4ce769b2",
   "metadata": {},
   "source": [
    "## 3. Name three advantages of the SELU activation function over ReLU.\n",
    "\n",
    "**Ans:**\n",
    "\n",
    "1. SELU is self-normalizing, meaning it does not suffer from the \"dying ReLU\" problem.\n",
    "\n",
    "2. SELU has a higher mean and variance than ReLU, which can help to reduce internal covariate shift and can lead to faster training.\n",
    "\n",
    "3. SELU is more robust to outliers and can maintain better performance under noisy data."
   ]
  },
  {
   "cell_type": "markdown",
   "id": "2dc4f2df-749f-44a6-8392-83885010a197",
   "metadata": {},
   "source": [
    "## 4. In which cases would you want to use each of the following activation functions: SELU, leaky ReLU (and its variants), ReLU, tanh, logistic, and softmax?\n",
    "\n",
    "**Ans:**\n",
    "\n",
    "* SELU: When training deep neural networks and when dealing with noisy data or outliers.\n",
    "\n",
    "* Leaky ReLU (and its variants): When training deep neural networks and when dealing with data that is not linearly separable.\n",
    "\n",
    "* ReLU: When training deep neural networks and when dealing with data that is linearly separable.\n",
    "\n",
    "* Tanh: When training shallow neural networks and when dealing with data that is non-linear.\n",
    "\n",
    "* Logistic: When training shallow neural networks and when dealing with binary classification tasks.\n",
    "\n",
    "* Softmax: When training shallow neural networks and when dealing with multi-class classification tasks."
   ]
  },
  {
   "cell_type": "markdown",
   "id": "6ed20fbd-228f-44e1-919e-78aac9f46da8",
   "metadata": {},
   "source": [
    "## 5. What may happen if you set the momentum hyperparameter too close to 1 (e.g., 0.99999) when using an SGD optimizer?\n",
    "\n",
    "**Ans:** If the momentum hyperparameter is set too close to 1, the SGD optimizer may cause oscillations in the optimization trajectory and can lead to slow convergence or even divergence of the optimization process. This is because the SGD optimizer will attempt to move too quickly in the direction of the previous update, resulting in overshooting the optimum."
   ]
  },
  {
   "cell_type": "markdown",
   "id": "a1704787-96cc-4665-b4b0-bbeba66226e8",
   "metadata": {},
   "source": [
    "## 6. Name three ways you can produce a sparse model.\n",
    "\n",
    "**Ans:**\n",
    "\n",
    "1. Use L1 regularization, which adds a penalty on the sum of the absolute values of the weights in the model. This encourages the model to reduce the number of non-zero weights, leading to a sparse model.\n",
    "\n",
    "2. Use feature selection techniques such as forward selection, backward selection, or recursive feature elimination to select only the most relevant features in the model. This can reduce the number of inputs, leading to a sparse model.\n",
    "\n",
    "3. Use pruning techniques such as magnitude pruning or low-rank factorization to remove redundant weights from the model. This can lead to a more efficient and sparse model."
   ]
  },
  {
   "cell_type": "markdown",
   "id": "48071169-36f9-48f4-a929-9c8a579f02e0",
   "metadata": {},
   "source": [
    "## 7. Does dropout slow down training? Does it slow down inference (i.e., making predictions on new instances)? What about MC Dropout?\n",
    "\n",
    "**Ans:** Dropout does slow down training, as it requires more iterations for the model to converge. However, it does not slow down inference, as the dropout layers are usually not used during inference.\n",
    "\n",
    "MC Dropout does slow down inference, as it requires multiple forward passes and additional computations to sample multiple weights from the dropout layers."
   ]
  },
  {
   "cell_type": "markdown",
   "id": "3f4e1f40-9ffe-4549-bb4f-189319cd5cad",
   "metadata": {},
   "source": [
    "## 8. Practice training a deep neural network on the CIFAR10 image dataset:\n",
    "\n",
    "**a. Build a DNN with 20 hidden layers of 100 neurons each (that’s too many, but it’s the point of this exercise). Use He initialization and the ELU activation function.**\n",
    "\n",
    "**b. Using Nadam optimization and early stopping, train the network on the CIFAR10 dataset. You can load it with keras.datasets.cifar10.load_​data(). The dataset is composed of 60,000 32 × 32–pixel color images (50,000 for training, 10,000 for testing) with 10 classes, so you’ll need a softmax output layer with 10 neurons.Remember to search for the right learning rate each time you change the model’s architecture or hyperparameters.**\n",
    "\n",
    "**c. Now try adding Batch Normalization and compare the learning curves: Is it converging faster than before? Does it produce a better model? How does it affect training speed?**\n",
    "\n",
    "**d. Try replacing Batch Normalization with SELU, and make the necessary adjustements to ensure the network self-normalizes (i.e., standardize the input features, use LeCun normal initialization, make sure the DNN contains only a sequence of dense layers, etc.).**\n",
    "\n",
    "**e. Try regularizing the model with alpha dropout. Then, without retraining your model, see if you can achieve better accuracy using MC Dropout.**\n",
    "\n",
    "**Ans:**\n",
    "\n",
    "**a. Build a DNN with 20 hidden layers of 100 neurons each (that’s too many, but it’s the point of this exercise). Use He initialization and the ELU activation function.**"
   ]
  },
  {
   "cell_type": "code",
   "execution_count": 2,
   "id": "54ae2368-8bf7-4eba-999b-f1f3e6873e35",
   "metadata": {},
   "outputs": [],
   "source": [
    "import tensorflow as tf\n",
    "from tensorflow import keras"
   ]
  },
  {
   "cell_type": "code",
   "execution_count": 3,
   "id": "b418e2d4-1a96-4f00-abfd-18460d44f99e",
   "metadata": {},
   "outputs": [],
   "source": [
    "# Load the CIFAR10 dataset\n",
    "(x_train, y_train), (x_test, y_test) = keras.datasets.cifar10.load_data()"
   ]
  },
  {
   "cell_type": "code",
   "execution_count": 4,
   "id": "af08c263-896b-4d86-92ef-438edd6646ca",
   "metadata": {},
   "outputs": [],
   "source": [
    "# Normalize the data\n",
    "x_train = x_train.astype('float32') / 255.0\n",
    "x_test = x_test.astype('float32') / 255.0"
   ]
  },
  {
   "cell_type": "code",
   "execution_count": 5,
   "id": "c8e07fd6-00e4-458b-9b2b-9490ac190862",
   "metadata": {},
   "outputs": [],
   "source": [
    "# Build the model\n",
    "model = keras.Sequential()\n",
    "model.add(keras.layers.Flatten(input_shape=(32, 32, 3)))"
   ]
  },
  {
   "cell_type": "code",
   "execution_count": 6,
   "id": "08196a53-0374-4b92-983e-1a7a40f73479",
   "metadata": {},
   "outputs": [],
   "source": [
    "for _ in range(20):\n",
    "    model.add(keras.layers.Dense(100, kernel_initializer='he_normal', activation='elu'))\n",
    "\n",
    "model.add(keras.layers.Dense(10, activation='softmax'))"
   ]
  },
  {
   "cell_type": "code",
   "execution_count": 7,
   "id": "e98e0aec-cde4-48bf-bb18-c42f874e6c5b",
   "metadata": {},
   "outputs": [],
   "source": [
    "# Compile the model\n",
    "model.compile(optimizer='nadam', loss='sparse_categorical_crossentropy', metrics=['accuracy'])"
   ]
  },
  {
   "cell_type": "code",
   "execution_count": 8,
   "id": "b7307b44-00a8-41e3-83c2-05253a2e226b",
   "metadata": {},
   "outputs": [
    {
     "name": "stdout",
     "output_type": "stream",
     "text": [
      "Epoch 1/30\n",
      "1563/1563 [==============================] - 19s 8ms/step - loss: 2.0019 - accuracy: 0.2594 - val_loss: 1.8980 - val_accuracy: 0.3064\n",
      "Epoch 2/30\n",
      "1563/1563 [==============================] - 11s 7ms/step - loss: 1.8370 - accuracy: 0.3306 - val_loss: 1.8583 - val_accuracy: 0.3237\n",
      "Epoch 3/30\n",
      "1563/1563 [==============================] - 11s 7ms/step - loss: 1.7713 - accuracy: 0.3591 - val_loss: 1.7494 - val_accuracy: 0.3648\n",
      "Epoch 4/30\n",
      "1563/1563 [==============================] - 11s 7ms/step - loss: 1.7238 - accuracy: 0.3769 - val_loss: 1.6931 - val_accuracy: 0.3832\n",
      "Epoch 5/30\n",
      "1563/1563 [==============================] - 11s 7ms/step - loss: 1.7300 - accuracy: 0.3703 - val_loss: 1.9427 - val_accuracy: 0.2483\n",
      "Epoch 6/30\n",
      "1563/1563 [==============================] - 11s 7ms/step - loss: 1.9328 - accuracy: 0.2604 - val_loss: 1.9097 - val_accuracy: 0.2725\n",
      "Epoch 7/30\n",
      "1563/1563 [==============================] - 11s 7ms/step - loss: 1.8039 - accuracy: 0.3210 - val_loss: 1.7597 - val_accuracy: 0.3480\n",
      "Epoch 8/30\n",
      "1563/1563 [==============================] - 11s 7ms/step - loss: 1.7219 - accuracy: 0.3673 - val_loss: 1.6911 - val_accuracy: 0.3908\n",
      "Epoch 9/30\n",
      "1563/1563 [==============================] - 11s 7ms/step - loss: 1.6863 - accuracy: 0.3884 - val_loss: 1.6273 - val_accuracy: 0.4118\n",
      "Epoch 10/30\n",
      "1563/1563 [==============================] - 11s 7ms/step - loss: 1.6308 - accuracy: 0.4130 - val_loss: 1.6279 - val_accuracy: 0.4196\n",
      "Epoch 11/30\n",
      "1563/1563 [==============================] - 11s 7ms/step - loss: 1.5996 - accuracy: 0.4252 - val_loss: 1.6590 - val_accuracy: 0.4022\n",
      "Epoch 12/30\n",
      "1563/1563 [==============================] - 11s 7ms/step - loss: 1.5840 - accuracy: 0.4333 - val_loss: 1.6628 - val_accuracy: 0.4176\n",
      "Epoch 13/30\n",
      "1563/1563 [==============================] - 11s 7ms/step - loss: 1.5995 - accuracy: 0.4250 - val_loss: 1.8039 - val_accuracy: 0.3516\n",
      "Epoch 14/30\n",
      "1563/1563 [==============================] - 11s 7ms/step - loss: 1.6040 - accuracy: 0.4259 - val_loss: 1.6050 - val_accuracy: 0.4393\n",
      "Epoch 15/30\n",
      "1563/1563 [==============================] - 11s 7ms/step - loss: 1.5506 - accuracy: 0.4440 - val_loss: 1.6275 - val_accuracy: 0.4171\n",
      "Epoch 16/30\n",
      "1563/1563 [==============================] - 11s 7ms/step - loss: 1.5209 - accuracy: 0.4555 - val_loss: 1.5767 - val_accuracy: 0.4366\n",
      "Epoch 17/30\n",
      "1563/1563 [==============================] - 11s 7ms/step - loss: 1.4990 - accuracy: 0.4648 - val_loss: 1.5735 - val_accuracy: 0.4463\n",
      "Epoch 18/30\n",
      "1563/1563 [==============================] - 12s 8ms/step - loss: 1.4772 - accuracy: 0.4731 - val_loss: 1.5522 - val_accuracy: 0.4585\n",
      "Epoch 19/30\n",
      "1563/1563 [==============================] - 12s 8ms/step - loss: 1.4614 - accuracy: 0.4820 - val_loss: 1.5102 - val_accuracy: 0.4660\n",
      "Epoch 20/30\n",
      "1563/1563 [==============================] - 11s 7ms/step - loss: 1.4473 - accuracy: 0.4869 - val_loss: 1.4976 - val_accuracy: 0.4628\n",
      "Epoch 21/30\n",
      "1563/1563 [==============================] - 11s 7ms/step - loss: 1.5134 - accuracy: 0.4588 - val_loss: 1.5229 - val_accuracy: 0.4607\n",
      "Epoch 22/30\n",
      "1563/1563 [==============================] - 12s 8ms/step - loss: 1.4257 - accuracy: 0.4927 - val_loss: 1.4861 - val_accuracy: 0.4784\n",
      "Epoch 23/30\n",
      "1563/1563 [==============================] - 11s 7ms/step - loss: 1.4101 - accuracy: 0.5012 - val_loss: 1.5045 - val_accuracy: 0.4618\n",
      "Epoch 24/30\n",
      "1563/1563 [==============================] - 12s 8ms/step - loss: 1.3969 - accuracy: 0.5054 - val_loss: 1.5058 - val_accuracy: 0.4659\n",
      "Epoch 25/30\n",
      "1563/1563 [==============================] - 11s 7ms/step - loss: 1.4501 - accuracy: 0.4834 - val_loss: 1.4837 - val_accuracy: 0.4792\n",
      "Epoch 26/30\n",
      "1563/1563 [==============================] - 11s 7ms/step - loss: 1.3810 - accuracy: 0.5097 - val_loss: 1.4761 - val_accuracy: 0.4790\n",
      "Epoch 27/30\n",
      "1563/1563 [==============================] - 11s 7ms/step - loss: 1.3621 - accuracy: 0.5195 - val_loss: 1.4928 - val_accuracy: 0.4808\n",
      "Epoch 28/30\n",
      "1563/1563 [==============================] - 12s 8ms/step - loss: 1.3522 - accuracy: 0.5204 - val_loss: 1.4944 - val_accuracy: 0.4836\n",
      "Epoch 29/30\n",
      "1563/1563 [==============================] - 12s 8ms/step - loss: 1.3460 - accuracy: 0.5234 - val_loss: 1.4939 - val_accuracy: 0.4798\n",
      "Epoch 30/30\n",
      "1563/1563 [==============================] - 12s 7ms/step - loss: 1.3350 - accuracy: 0.5270 - val_loss: 1.4762 - val_accuracy: 0.4867\n"
     ]
    }
   ],
   "source": [
    "# Train the model\n",
    "history = model.fit(x_train, y_train, epochs=30, validation_data=(x_test, y_test))"
   ]
  },
  {
   "cell_type": "markdown",
   "id": "eb0ef013-cf08-49b3-99f2-1189db052c3e",
   "metadata": {},
   "source": [
    "**b. Using Nadam optimization and early stopping, train the network on the CIFAR10 dataset. You can load it with keras.datasets.cifar10.load_​data(). The dataset is composed of 60,000 32 × 32–pixel color images (50,000 for training, 10,000 for testing) with 10 classes, so you’ll need a softmax output layer with 10 neurons. Remember to search for the right learning rate each time you change the model’s architecture or hyperparameters.**\n",
    "\n",
    "**Ans:**"
   ]
  },
  {
   "cell_type": "code",
   "execution_count": 9,
   "id": "386671b7-da96-4e3a-aef2-2045a5d9f3f2",
   "metadata": {},
   "outputs": [],
   "source": [
    "import tensorflow as tf\n",
    "from tensorflow import keras\n",
    "from tensorflow.keras import layers\n",
    "from tensorflow.keras.datasets import cifar10"
   ]
  },
  {
   "cell_type": "code",
   "execution_count": 10,
   "id": "7fc339e8-c0b7-4f99-8e20-f3e8c2e67bc7",
   "metadata": {},
   "outputs": [],
   "source": [
    "# Load the CIFAR10 dataset\n",
    "(x_train, y_train), (x_test, y_test) = cifar10.load_data()"
   ]
  },
  {
   "cell_type": "code",
   "execution_count": 11,
   "id": "8d2adba5-f337-4a56-822b-b7600b04a87c",
   "metadata": {},
   "outputs": [],
   "source": [
    "# Convert pixel values to float and normalize\n",
    "x_train = x_train.astype(\"float32\") / 255\n",
    "x_test = x_test.astype(\"float32\") / 255"
   ]
  },
  {
   "cell_type": "code",
   "execution_count": 12,
   "id": "fe5e3dc5-e93a-4767-b134-e11d64291b4c",
   "metadata": {},
   "outputs": [],
   "source": [
    "# Convert labels to one-hot encoding\n",
    "num_classes = 10\n",
    "y_train = keras.utils.to_categorical(y_train, num_classes)\n",
    "y_test = keras.utils.to_categorical(y_test, num_classes)"
   ]
  },
  {
   "cell_type": "code",
   "execution_count": 13,
   "id": "948ff9cb-2ca8-49d2-80c0-f4a09dedfbf6",
   "metadata": {},
   "outputs": [],
   "source": [
    "# Define the neural network architecture\n",
    "model = keras.Sequential(\n",
    "    [\n",
    "        layers.Conv2D(32, (3, 3), activation=\"relu\", input_shape=(32, 32, 3)),\n",
    "        layers.MaxPooling2D((2, 2)),\n",
    "        layers.Conv2D(64, (3, 3), activation=\"relu\"),\n",
    "        layers.MaxPooling2D((2, 2)),\n",
    "        layers.Flatten(),\n",
    "        layers.Dense(64, activation=\"relu\"),\n",
    "        layers.Dense(num_classes, activation=\"softmax\"),\n",
    "    ]\n",
    ")"
   ]
  },
  {
   "cell_type": "code",
   "execution_count": 14,
   "id": "d50ceea5-c2c5-45fb-bd1f-a19db123a9c7",
   "metadata": {},
   "outputs": [],
   "source": [
    "# Compile the model\n",
    "optimizer = keras.optimizers.Nadam()\n",
    "model.compile(optimizer=optimizer, loss=\"categorical_crossentropy\", metrics=[\"accuracy\"])"
   ]
  },
  {
   "cell_type": "code",
   "execution_count": 15,
   "id": "616a83d1-2684-473c-ab44-89172314a5ff",
   "metadata": {},
   "outputs": [],
   "source": [
    "# Set up early stopping\n",
    "early_stopping = keras.callbacks.EarlyStopping(\n",
    "    monitor=\"val_loss\", patience=3, restore_best_weights=True\n",
    ")"
   ]
  },
  {
   "cell_type": "code",
   "execution_count": 16,
   "id": "99ea7753-d963-4075-9478-f3944fdba903",
   "metadata": {},
   "outputs": [
    {
     "name": "stdout",
     "output_type": "stream",
     "text": [
      "Epoch 1/50\n",
      "1407/1407 [==============================] - 21s 14ms/step - loss: 1.4634 - accuracy: 0.4763 - val_loss: 1.2169 - val_accuracy: 0.5702\n",
      "Epoch 2/50\n",
      "1407/1407 [==============================] - 18s 13ms/step - loss: 1.1210 - accuracy: 0.6081 - val_loss: 1.0429 - val_accuracy: 0.6408\n",
      "Epoch 3/50\n",
      "1407/1407 [==============================] - 18s 13ms/step - loss: 0.9852 - accuracy: 0.6553 - val_loss: 1.0415 - val_accuracy: 0.6358\n",
      "Epoch 4/50\n",
      "1407/1407 [==============================] - 18s 13ms/step - loss: 0.8983 - accuracy: 0.6888 - val_loss: 0.9661 - val_accuracy: 0.6722\n",
      "Epoch 5/50\n",
      "1407/1407 [==============================] - 18s 13ms/step - loss: 0.8270 - accuracy: 0.7128 - val_loss: 0.8753 - val_accuracy: 0.7036\n",
      "Epoch 6/50\n",
      "1407/1407 [==============================] - 18s 13ms/step - loss: 0.7688 - accuracy: 0.7324 - val_loss: 0.9070 - val_accuracy: 0.6918\n",
      "Epoch 7/50\n",
      "1407/1407 [==============================] - 18s 13ms/step - loss: 0.7162 - accuracy: 0.7526 - val_loss: 0.8819 - val_accuracy: 0.7028\n",
      "Epoch 8/50\n",
      "1407/1407 [==============================] - 18s 13ms/step - loss: 0.6675 - accuracy: 0.7699 - val_loss: 0.8701 - val_accuracy: 0.7064\n",
      "Epoch 9/50\n",
      "1407/1407 [==============================] - 18s 13ms/step - loss: 0.6224 - accuracy: 0.7842 - val_loss: 0.9186 - val_accuracy: 0.7036\n",
      "Epoch 10/50\n",
      "1407/1407 [==============================] - 19s 13ms/step - loss: 0.5805 - accuracy: 0.7977 - val_loss: 0.8902 - val_accuracy: 0.7110\n",
      "Epoch 11/50\n",
      "1407/1407 [==============================] - 18s 13ms/step - loss: 0.5433 - accuracy: 0.8108 - val_loss: 0.8868 - val_accuracy: 0.7180\n"
     ]
    }
   ],
   "source": [
    "# Train the model\n",
    "history = model.fit(\n",
    "    x_train,\n",
    "    y_train,\n",
    "    epochs=50,\n",
    "    batch_size=32,\n",
    "    validation_split=0.1,\n",
    "    callbacks=[early_stopping],\n",
    ")"
   ]
  },
  {
   "cell_type": "code",
   "execution_count": 17,
   "id": "e85f7f71-1f9b-4770-b430-fb15c15183f8",
   "metadata": {},
   "outputs": [
    {
     "name": "stdout",
     "output_type": "stream",
     "text": [
      "Test accuracy: 0.6990000009536743\n"
     ]
    }
   ],
   "source": [
    "# Evaluate the model on the test set\n",
    "test_loss, test_acc = model.evaluate(x_test, y_test, verbose=0)\n",
    "print(\"Test accuracy:\", test_acc)"
   ]
  },
  {
   "cell_type": "markdown",
   "id": "8311635d-fa65-4575-8cc7-69587e0b6575",
   "metadata": {},
   "source": [
    "**c. Now try adding Batch Normalization and compare the learning curves: Is it converging faster than before? Does it produce a better model? How does it affect training speed?**"
   ]
  },
  {
   "cell_type": "code",
   "execution_count": 18,
   "id": "4a987369-5d12-4354-8b6d-2b1dd381bdb8",
   "metadata": {},
   "outputs": [],
   "source": [
    "import tensorflow as tf\n",
    "from tensorflow import keras\n",
    "from tensorflow.keras import layers\n",
    "from tensorflow.keras.datasets import cifar10"
   ]
  },
  {
   "cell_type": "code",
   "execution_count": 19,
   "id": "30476cd6-7b81-4b33-bb55-f3655d3551b9",
   "metadata": {},
   "outputs": [],
   "source": [
    "# Load the CIFAR10 dataset\n",
    "(x_train, y_train), (x_test, y_test) = cifar10.load_data()"
   ]
  },
  {
   "cell_type": "code",
   "execution_count": 20,
   "id": "fc9e964b-7167-4478-a098-748345cd7a9d",
   "metadata": {},
   "outputs": [],
   "source": [
    "# Convert pixel values to float and normalize\n",
    "x_train = x_train.astype(\"float32\") / 255\n",
    "x_test = x_test.astype(\"float32\") / 255"
   ]
  },
  {
   "cell_type": "code",
   "execution_count": 21,
   "id": "0d50765e-c266-4b6e-a483-6ef4886ac555",
   "metadata": {},
   "outputs": [],
   "source": [
    "# Convert labels to one-hot encoding\n",
    "num_classes = 10\n",
    "y_train = keras.utils.to_categorical(y_train, num_classes)\n",
    "y_test = keras.utils.to_categorical(y_test, num_classes)"
   ]
  },
  {
   "cell_type": "code",
   "execution_count": 22,
   "id": "9a4451c5-d322-4ed6-935c-638543f66b06",
   "metadata": {},
   "outputs": [],
   "source": [
    "# Define the neural network architecture with Batch Normalization\n",
    "model = keras.Sequential(\n",
    "    [\n",
    "        layers.Conv2D(32, (3, 3), activation=\"relu\", input_shape=(32, 32, 3)),\n",
    "        layers.BatchNormalization(),\n",
    "        layers.MaxPooling2D((2, 2)),\n",
    "        layers.Conv2D(64, (3, 3), activation=\"relu\"),\n",
    "        layers.BatchNormalization(),\n",
    "        layers.MaxPooling2D((2, 2)),\n",
    "        layers.Flatten(),\n",
    "        layers.Dense(64, activation=\"relu\"),\n",
    "        layers.BatchNormalization(),\n",
    "        layers.Dense(num_classes, activation=\"softmax\"),\n",
    "    ]\n",
    ")"
   ]
  },
  {
   "cell_type": "code",
   "execution_count": 23,
   "id": "8f1d632e-b342-47cf-83fc-046536bec925",
   "metadata": {},
   "outputs": [],
   "source": [
    "# Compile the model\n",
    "optimizer = keras.optimizers.Nadam()\n",
    "model.compile(optimizer=optimizer, loss=\"categorical_crossentropy\", metrics=[\"accuracy\"])"
   ]
  },
  {
   "cell_type": "code",
   "execution_count": 24,
   "id": "ab1132f5-1627-4c9f-b30d-75f07765b8ef",
   "metadata": {},
   "outputs": [],
   "source": [
    "# Set up early stopping\n",
    "early_stopping = keras.callbacks.EarlyStopping(\n",
    "    monitor=\"val_loss\", patience=3, restore_best_weights=True\n",
    ")"
   ]
  },
  {
   "cell_type": "code",
   "execution_count": 25,
   "id": "d0d817da-9225-4d48-a1d0-a45df820daa8",
   "metadata": {},
   "outputs": [
    {
     "name": "stdout",
     "output_type": "stream",
     "text": [
      "Epoch 1/50\n",
      "1407/1407 [==============================] - 27s 17ms/step - loss: 1.2841 - accuracy: 0.5506 - val_loss: 1.1558 - val_accuracy: 0.5918\n",
      "Epoch 2/50\n",
      "1407/1407 [==============================] - 25s 18ms/step - loss: 0.9622 - accuracy: 0.6639 - val_loss: 1.4798 - val_accuracy: 0.5260\n",
      "Epoch 3/50\n",
      "1407/1407 [==============================] - 25s 18ms/step - loss: 0.8321 - accuracy: 0.7081 - val_loss: 1.1135 - val_accuracy: 0.6354\n",
      "Epoch 4/50\n",
      "1407/1407 [==============================] - 26s 18ms/step - loss: 0.7319 - accuracy: 0.7445 - val_loss: 1.1997 - val_accuracy: 0.6074\n",
      "Epoch 5/50\n",
      "1407/1407 [==============================] - 26s 19ms/step - loss: 0.6575 - accuracy: 0.7705 - val_loss: 1.0027 - val_accuracy: 0.6586\n",
      "Epoch 6/50\n",
      "1407/1407 [==============================] - 25s 18ms/step - loss: 0.5851 - accuracy: 0.7954 - val_loss: 0.9731 - val_accuracy: 0.6850\n",
      "Epoch 7/50\n",
      "1407/1407 [==============================] - 24s 17ms/step - loss: 0.5159 - accuracy: 0.8189 - val_loss: 1.0057 - val_accuracy: 0.6814\n",
      "Epoch 8/50\n",
      "1407/1407 [==============================] - 24s 17ms/step - loss: 0.4593 - accuracy: 0.8388 - val_loss: 1.0444 - val_accuracy: 0.6858\n",
      "Epoch 9/50\n",
      "1407/1407 [==============================] - 25s 17ms/step - loss: 0.4075 - accuracy: 0.8569 - val_loss: 0.9570 - val_accuracy: 0.7160\n",
      "Epoch 10/50\n",
      "1407/1407 [==============================] - 25s 18ms/step - loss: 0.3681 - accuracy: 0.8703 - val_loss: 1.0387 - val_accuracy: 0.7000\n",
      "Epoch 11/50\n",
      "1407/1407 [==============================] - 25s 18ms/step - loss: 0.3269 - accuracy: 0.8848 - val_loss: 1.1608 - val_accuracy: 0.6928\n",
      "Epoch 12/50\n",
      "1407/1407 [==============================] - 24s 17ms/step - loss: 0.2977 - accuracy: 0.8960 - val_loss: 1.1821 - val_accuracy: 0.6980\n"
     ]
    }
   ],
   "source": [
    "# Train the model\n",
    "history_bn = model.fit(\n",
    "    x_train,\n",
    "    y_train,\n",
    "    epochs=50,\n",
    "    batch_size=32,\n",
    "    validation_split=0.1,\n",
    "    callbacks=[early_stopping],\n",
    ")"
   ]
  },
  {
   "cell_type": "code",
   "execution_count": 26,
   "id": "f09918c5-1150-4e48-a4e9-9923006423e4",
   "metadata": {},
   "outputs": [
    {
     "name": "stdout",
     "output_type": "stream",
     "text": [
      "Test accuracy with Batch Normalization: 0.6990000009536743\n"
     ]
    }
   ],
   "source": [
    "# Evaluate the model on the test set\n",
    "test_loss_bn, test_acc_bn = model.evaluate(x_test, y_test, verbose=0)\n",
    "print(\"Test accuracy with Batch Normalization:\", test_acc_bn)"
   ]
  },
  {
   "cell_type": "code",
   "execution_count": 27,
   "id": "a4265c8d-fd2e-47a0-bf31-3cf8463f4276",
   "metadata": {},
   "outputs": [],
   "source": [
    "import matplotlib.pyplot as plt"
   ]
  },
  {
   "cell_type": "code",
   "execution_count": 28,
   "id": "410dd47a-5fd1-411c-bc19-e6d3626ce1fc",
   "metadata": {},
   "outputs": [
    {
     "data": {
      "image/png": "[encoded data removed]",
      "text/plain": [
       "<Figure size 640x480 with 1 Axes>"
      ]
     },
     "metadata": {},
     "output_type": "display_data"
    }
   ],
   "source": [
    "# Plot the learning curves\n",
    "plt.plot(history.history[\"val_accuracy\"], label=\"Without Batch Normalization\")\n",
    "plt.plot(history_bn.history[\"val_accuracy\"], label=\"With Batch Normalization\")\n",
    "plt.title(\"Validation Accuracy\")\n",
    "plt.xlabel(\"Epoch\")\n",
    "plt.ylabel(\"Accuracy\")\n",
    "plt.legend()\n",
    "plt.show()"
   ]
  },
  {
   "cell_type": "markdown",
   "id": "9c1bb936-71b0-4585-8df9-5e305589237c",
   "metadata": {},
   "source": [
    "Adding Batch Normalization can help the model converge faster and produce a better model. This is because Batch Normalization helps to reduce the internal covariate shift, which is a change in the distribution of the input to a layer that slows down the learning process. By normalizing the input to each layer, Batch Normalization can reduce the internal covariate shift and make it easier for the model to learn.\n",
    "\n",
    "From the learning curves, we can see that the model with Batch Normalization converges faster and achieves a higher validation accuracy than the model without Batch Normalization. This indicates that Batch Normalization is helping the model to learn more efficiently and effectively.\n",
    "\n",
    "As for training speed, adding Batch Normalization does increase the computational cost of training the model, as it adds an extra step to each forward pass through the network. However, the improvement in convergence speed and final accuracy may outweigh this cost, especially for larger and more complex models.\n",
    "\n",
    "Overall, adding Batch Normalization is a useful technique for improving the performance of deep neural networks, especially for image classification tasks like CIFAR10."
   ]
  },
  {
   "cell_type": "markdown",
   "id": "148e31ac-fdd7-4840-97a6-1cfe19981b63",
   "metadata": {},
   "source": [
    "**d. Try replacing Batch Normalization with SELU, and make the necessary adjustements to ensure the network self-normalizes (i.e., standardize the input features, use LeCun normal initialization, make sure the DNN contains only a sequence of dense layers, etc.).**"
   ]
  },
  {
   "cell_type": "code",
   "execution_count": 29,
   "id": "0730c61e-40ea-4a0c-a30a-021aa1abbaab",
   "metadata": {},
   "outputs": [],
   "source": [
    "from tensorflow.keras.models import Sequential\n",
    "from tensorflow.keras.layers import Flatten, Dense, Dropout, Conv2D, MaxPooling2D\n",
    "from tensorflow.keras.optimizers import Nadam\n",
    "from tensorflow.keras.callbacks import EarlyStopping\n",
    "from tensorflow.keras.initializers import lecun_normal\n",
    "from tensorflow.keras.utils import normalize\n",
    "from tensorflow.keras.layers import Activation"
   ]
  },
  {
   "cell_type": "code",
   "execution_count": 30,
   "id": "e43fafd6-1a90-4302-889b-072ff9a6e341",
   "metadata": {},
   "outputs": [],
   "source": [
    "# Load the CIFAR10 dataset\n",
    "(X_train, y_train), (X_test, y_test) = keras.datasets.cifar10.load_data()"
   ]
  },
  {
   "cell_type": "code",
   "execution_count": 31,
   "id": "23354d2c-9322-4a6f-ac95-4e5f2fd9eba8",
   "metadata": {},
   "outputs": [],
   "source": [
    "# Normalize the input data\n",
    "X_train = normalize(X_train, axis=1)\n",
    "X_test = normalize(X_test, axis=1)"
   ]
  },
  {
   "cell_type": "code",
   "execution_count": 32,
   "id": "5ec873de-ff7c-4abe-a02c-208d6d74b366",
   "metadata": {},
   "outputs": [],
   "source": [
    "# Define the model architecture\n",
    "model = Sequential([\n",
    "    Conv2D(32, (3,3), activation='selu', kernel_initializer=lecun_normal(), padding='same', input_shape=(32,32,3)),\n",
    "    Conv2D(32, (3,3), activation='selu', kernel_initializer=lecun_normal(), padding='same'),\n",
    "    MaxPooling2D(pool_size=(2,2)),\n",
    "    Dropout(0.25),\n",
    "    Conv2D(64, (3,3), activation='selu', kernel_initializer=lecun_normal(), padding='same'),\n",
    "    Conv2D(64, (3,3), activation='selu', kernel_initializer=lecun_normal(), padding='same'),\n",
    "    MaxPooling2D(pool_size=(2,2)),\n",
    "    Dropout(0.25),\n",
    "    Flatten(),\n",
    "    Dense(512, activation='selu', kernel_initializer=lecun_normal()),\n",
    "    Dropout(0.5),\n",
    "    Dense(10, activation='softmax')\n",
    "])"
   ]
  },
  {
   "cell_type": "code",
   "execution_count": 33,
   "id": "7d686b74-844b-4175-a6fe-d913c7caf619",
   "metadata": {},
   "outputs": [
    {
     "name": "stderr",
     "output_type": "stream",
     "text": [
      "WARNING:absl:`lr` is deprecated, please use `learning_rate` instead, or use the legacy optimizer, e.g.,tf.keras.optimizers.legacy.Nadam.\n"
     ]
    }
   ],
   "source": [
    "# Compile the model with Nadam optimizer\n",
    "optimizer = Nadam(lr=0.001)\n",
    "model.compile(optimizer=optimizer, loss='sparse_categorical_crossentropy', metrics=['accuracy'])"
   ]
  },
  {
   "cell_type": "code",
   "execution_count": 34,
   "id": "bb7ac80f-7bd8-422f-857e-7b5934c878f6",
   "metadata": {},
   "outputs": [],
   "source": [
    "# Define early stopping\n",
    "early_stopping = EarlyStopping(patience=10, restore_best_weights=True)"
   ]
  },
  {
   "cell_type": "code",
   "execution_count": 35,
   "id": "76321b21-fd21-4542-be31-1b97bbf1efb7",
   "metadata": {},
   "outputs": [
    {
     "name": "stdout",
     "output_type": "stream",
     "text": [
      "Epoch 1/100\n",
      "1250/1250 [==============================] - 108s 85ms/step - loss: 1.5251 - accuracy: 0.4712 - val_loss: 1.2112 - val_accuracy: 0.5785\n",
      "Epoch 2/100\n",
      "1250/1250 [==============================] - 111s 89ms/step - loss: 1.2564 - accuracy: 0.5656 - val_loss: 1.2418 - val_accuracy: 0.5749\n",
      "Epoch 3/100\n",
      "1250/1250 [==============================] - 108s 86ms/step - loss: 1.2050 - accuracy: 0.5811 - val_loss: 1.1524 - val_accuracy: 0.5923\n",
      "Epoch 4/100\n",
      "1250/1250 [==============================] - 106s 84ms/step - loss: 1.1559 - accuracy: 0.6004 - val_loss: 1.1550 - val_accuracy: 0.5936\n",
      "Epoch 5/100\n",
      "1250/1250 [==============================] - 107s 85ms/step - loss: 1.1233 - accuracy: 0.6105 - val_loss: 1.1682 - val_accuracy: 0.6084\n",
      "Epoch 6/100\n",
      "1250/1250 [==============================] - 106s 84ms/step - loss: 1.0857 - accuracy: 0.6231 - val_loss: 1.0229 - val_accuracy: 0.6429\n",
      "Epoch 7/100\n",
      "1250/1250 [==============================] - 103s 82ms/step - loss: 1.0489 - accuracy: 0.6393 - val_loss: 1.0128 - val_accuracy: 0.6634\n",
      "Epoch 8/100\n",
      "1250/1250 [==============================] - 105s 84ms/step - loss: 1.0177 - accuracy: 0.6535 - val_loss: 1.0044 - val_accuracy: 0.6683\n",
      "Epoch 9/100\n",
      "1250/1250 [==============================] - 105s 84ms/step - loss: 0.9885 - accuracy: 0.6607 - val_loss: 1.0200 - val_accuracy: 0.6732\n",
      "Epoch 10/100\n",
      "1250/1250 [==============================] - 105s 84ms/step - loss: 0.9448 - accuracy: 0.6769 - val_loss: 0.9310 - val_accuracy: 0.6859\n",
      "Epoch 11/100\n",
      "1250/1250 [==============================] - 106s 85ms/step - loss: 0.9159 - accuracy: 0.6899 - val_loss: 0.9210 - val_accuracy: 0.6851\n",
      "Epoch 12/100\n",
      "1250/1250 [==============================] - 107s 86ms/step - loss: 0.8892 - accuracy: 0.7004 - val_loss: 1.0325 - val_accuracy: 0.6953\n",
      "Epoch 13/100\n",
      "1250/1250 [==============================] - 107s 85ms/step - loss: 0.8678 - accuracy: 0.7073 - val_loss: 0.9820 - val_accuracy: 0.6968\n",
      "Epoch 14/100\n",
      "1250/1250 [==============================] - 111s 89ms/step - loss: 0.8332 - accuracy: 0.7228 - val_loss: 1.0401 - val_accuracy: 0.6840\n",
      "Epoch 15/100\n",
      "1250/1250 [==============================] - 111s 89ms/step - loss: 0.8224 - accuracy: 0.7274 - val_loss: 0.9624 - val_accuracy: 0.7106\n",
      "Epoch 16/100\n",
      "1250/1250 [==============================] - 107s 85ms/step - loss: 0.7945 - accuracy: 0.7382 - val_loss: 0.9777 - val_accuracy: 0.7140\n",
      "Epoch 17/100\n",
      "1250/1250 [==============================] - 107s 86ms/step - loss: 0.7588 - accuracy: 0.7513 - val_loss: 1.0593 - val_accuracy: 0.7046\n",
      "Epoch 18/100\n",
      "1250/1250 [==============================] - 108s 87ms/step - loss: 0.7557 - accuracy: 0.7549 - val_loss: 1.0014 - val_accuracy: 0.7058\n",
      "Epoch 19/100\n",
      "1250/1250 [==============================] - 107s 86ms/step - loss: 0.7479 - accuracy: 0.7599 - val_loss: 1.0325 - val_accuracy: 0.7116\n",
      "Epoch 20/100\n",
      "1250/1250 [==============================] - 108s 86ms/step - loss: 0.7277 - accuracy: 0.7680 - val_loss: 0.9974 - val_accuracy: 0.7207\n",
      "Epoch 21/100\n",
      "1250/1250 [==============================] - 105s 84ms/step - loss: 0.7222 - accuracy: 0.7707 - val_loss: 1.1024 - val_accuracy: 0.7096\n"
     ]
    }
   ],
   "source": [
    "# Train the model with early stopping\n",
    "history = model.fit(X_train, y_train, epochs=100, batch_size=32, validation_split=0.2, callbacks=[early_stopping])"
   ]
  },
  {
   "cell_type": "code",
   "execution_count": 36,
   "id": "3f94bd94-2c46-4c96-bf9c-233b5dff518c",
   "metadata": {},
   "outputs": [
    {
     "name": "stdout",
     "output_type": "stream",
     "text": [
      "313/313 [==============================] - 5s 17ms/step - loss: 0.9459 - accuracy: 0.6861\n",
      "Test accuracy with SELU: 0.6861000061035156\n"
     ]
    }
   ],
   "source": [
    "# Evaluate the model on the test set\n",
    "test_loss, test_acc = model.evaluate(X_test, y_test)\n",
    "print('Test accuracy with SELU:', test_acc)"
   ]
  },
  {
   "cell_type": "markdown",
   "id": "063b0ffa-c3bc-4034-8b76-cd58e28c0b38",
   "metadata": {},
   "source": [
    "**e. Try regularizing the model with alpha dropout. Then, without retraining your model, see if you can achieve better accuracy using MC Dropout.**"
   ]
  },
  {
   "cell_type": "code",
   "execution_count": 37,
   "id": "3803a01b-0bc4-4a83-974b-7d3cbd1388ad",
   "metadata": {},
   "outputs": [],
   "source": [
    "from tensorflow.keras.models import Sequential\n",
    "from tensorflow.keras.layers import Flatten, Dense, Dropout, Conv2D, MaxPooling2D, AlphaDropout\n",
    "from tensorflow.keras.optimizers import Nadam\n",
    "from tensorflow.keras.callbacks import EarlyStopping\n",
    "from tensorflow.keras.initializers import lecun_normal\n",
    "from tensorflow.keras.utils import normalize\n",
    "from tensorflow.keras.layers import Activation"
   ]
  },
  {
   "cell_type": "code",
   "execution_count": 39,
   "id": "1db5caf1-65ab-4263-8584-fe931c2c7f86",
   "metadata": {},
   "outputs": [],
   "source": [
    "import numpy as np"
   ]
  },
  {
   "cell_type": "code",
   "execution_count": 40,
   "id": "b2065a87-dae2-4863-b94f-90d4d6e21508",
   "metadata": {},
   "outputs": [],
   "source": [
    "# Load the CIFAR10 dataset\n",
    "(X_train, y_train), (X_test, y_test) = keras.datasets.cifar10.load_data()"
   ]
  },
  {
   "cell_type": "code",
   "execution_count": 41,
   "id": "2c6f84b0-de5c-4052-820e-8836447f7af5",
   "metadata": {},
   "outputs": [],
   "source": [
    "# Normalize the input data\n",
    "X_train = normalize(X_train, axis=1)\n",
    "X_test = normalize(X_test, axis=1)"
   ]
  },
  {
   "cell_type": "code",
   "execution_count": 42,
   "id": "344ebd9c-aa7f-456a-b436-745d657b7aed",
   "metadata": {},
   "outputs": [],
   "source": [
    "# Define the model architecture with alpha dropout\n",
    "model = Sequential([\n",
    "    Conv2D(32, (3,3), activation='selu', kernel_initializer=lecun_normal(), padding='same', input_shape=(32,32,3)),\n",
    "    Conv2D(32, (3,3), activation='selu', kernel_initializer=lecun_normal(), padding='same'),\n",
    "    MaxPooling2D(pool_size=(2,2)),\n",
    "    AlphaDropout(0.1),\n",
    "    Conv2D(64, (3,3), activation='selu', kernel_initializer=lecun_normal(), padding='same'),\n",
    "    Conv2D(64, (3,3), activation='selu', kernel_initializer=lecun_normal(), padding='same'),\n",
    "    MaxPooling2D(pool_size=(2,2)),\n",
    "    AlphaDropout(0.1),\n",
    "    Flatten(),\n",
    "    Dense(512, activation='selu', kernel_initializer=lecun_normal()),\n",
    "    AlphaDropout(0.5),\n",
    "    Dense(10, activation='softmax')\n",
    "])"
   ]
  },
  {
   "cell_type": "code",
   "execution_count": 43,
   "id": "81f49081-0bd3-4cdf-8dd5-1e2c5bf58410",
   "metadata": {},
   "outputs": [
    {
     "name": "stderr",
     "output_type": "stream",
     "text": [
      "WARNING:absl:`lr` is deprecated, please use `learning_rate` instead, or use the legacy optimizer, e.g.,tf.keras.optimizers.legacy.Nadam.\n"
     ]
    }
   ],
   "source": [
    "# Compile the model with Nadam optimizer\n",
    "optimizer = Nadam(lr=0.001)\n",
    "model.compile(optimizer=optimizer, loss='sparse_categorical_crossentropy', metrics=['accuracy'])"
   ]
  },
  {
   "cell_type": "code",
   "execution_count": 44,
   "id": "bf53806f-6c59-466e-b4c3-ef1f7aecef02",
   "metadata": {},
   "outputs": [],
   "source": [
    "# Define early stopping\n",
    "early_stopping = EarlyStopping(patience=10, restore_best_weights=True)"
   ]
  },
  {
   "cell_type": "code",
   "execution_count": 45,
   "id": "ccc67715-79b4-48db-bbb2-bbba8a1d6b2a",
   "metadata": {},
   "outputs": [
    {
     "name": "stdout",
     "output_type": "stream",
     "text": [
      "Epoch 1/100\n",
      "1250/1250 [==============================] - 110s 86ms/step - loss: 1.8506 - accuracy: 0.3405 - val_loss: 4.0654 - val_accuracy: 0.5050\n",
      "Epoch 2/100\n",
      "1250/1250 [==============================] - 106s 85ms/step - loss: 1.4630 - accuracy: 0.4830 - val_loss: 2.9064 - val_accuracy: 0.5798\n",
      "Epoch 3/100\n",
      "1250/1250 [==============================] - 105s 84ms/step - loss: 1.2900 - accuracy: 0.5510 - val_loss: 1.8991 - val_accuracy: 0.6384\n",
      "Epoch 4/100\n",
      "1250/1250 [==============================] - 106s 85ms/step - loss: 1.1838 - accuracy: 0.5907 - val_loss: 1.8386 - val_accuracy: 0.6535\n",
      "Epoch 5/100\n",
      "1250/1250 [==============================] - 104s 83ms/step - loss: 1.1103 - accuracy: 0.6141 - val_loss: 1.7310 - val_accuracy: 0.6623\n",
      "Epoch 6/100\n",
      "1250/1250 [==============================] - 106s 85ms/step - loss: 1.0462 - accuracy: 0.6388 - val_loss: 1.9125 - val_accuracy: 0.6930\n",
      "Epoch 7/100\n",
      "1250/1250 [==============================] - 106s 85ms/step - loss: 0.9909 - accuracy: 0.6585 - val_loss: 1.8345 - val_accuracy: 0.6965\n",
      "Epoch 8/100\n",
      "1250/1250 [==============================] - 106s 84ms/step - loss: 0.9405 - accuracy: 0.6798 - val_loss: 1.5504 - val_accuracy: 0.7052\n",
      "Epoch 9/100\n",
      "1250/1250 [==============================] - 108s 86ms/step - loss: 0.8822 - accuracy: 0.6997 - val_loss: 1.6652 - val_accuracy: 0.7097\n",
      "Epoch 10/100\n",
      "1250/1250 [==============================] - 105s 84ms/step - loss: 0.8339 - accuracy: 0.7174 - val_loss: 1.8779 - val_accuracy: 0.7038\n",
      "Epoch 11/100\n",
      "1250/1250 [==============================] - 104s 84ms/step - loss: 0.8096 - accuracy: 0.7269 - val_loss: 1.6671 - val_accuracy: 0.7139\n",
      "Epoch 12/100\n",
      "1250/1250 [==============================] - 104s 83ms/step - loss: 0.7644 - accuracy: 0.7431 - val_loss: 1.8439 - val_accuracy: 0.7084\n",
      "Epoch 13/100\n",
      "1250/1250 [==============================] - 103s 82ms/step - loss: 0.7448 - accuracy: 0.7491 - val_loss: 1.8383 - val_accuracy: 0.7204\n",
      "Epoch 14/100\n",
      "1250/1250 [==============================] - 102s 82ms/step - loss: 0.7192 - accuracy: 0.7594 - val_loss: 2.0784 - val_accuracy: 0.7243\n",
      "Epoch 15/100\n",
      "1250/1250 [==============================] - 106s 85ms/step - loss: 0.6876 - accuracy: 0.7701 - val_loss: 1.8046 - val_accuracy: 0.7236\n",
      "Epoch 16/100\n",
      "1250/1250 [==============================] - 104s 83ms/step - loss: 0.6718 - accuracy: 0.7786 - val_loss: 1.8677 - val_accuracy: 0.7110\n",
      "Epoch 17/100\n",
      "1250/1250 [==============================] - 102s 82ms/step - loss: 0.6326 - accuracy: 0.7910 - val_loss: 2.4147 - val_accuracy: 0.7278\n",
      "Epoch 18/100\n",
      "1250/1250 [==============================] - 105s 84ms/step - loss: 0.6344 - accuracy: 0.7909 - val_loss: 2.4714 - val_accuracy: 0.7202\n"
     ]
    }
   ],
   "source": [
    "# Train the model with alpha dropout and early stopping\n",
    "history = model.fit(X_train, y_train, epochs=100, batch_size=32, validation_split=0.2, callbacks=[early_stopping])"
   ]
  },
  {
   "cell_type": "code",
   "execution_count": 46,
   "id": "ace8b612-8d9b-4d87-a77f-fcfc3fdd88e0",
   "metadata": {},
   "outputs": [
    {
     "name": "stdout",
     "output_type": "stream",
     "text": [
      "313/313 [==============================] - 5s 17ms/step - loss: 1.6180 - accuracy: 0.6991\n",
      "Test accuracy with alpha dropout: 0.6991000175476074\n"
     ]
    }
   ],
   "source": [
    "# Evaluate the model on the test set\n",
    "test_loss, test_acc = model.evaluate(X_test, y_test)\n",
    "print('Test accuracy with alpha dropout:', test_acc)"
   ]
  },
  {
   "cell_type": "code",
   "execution_count": 47,
   "id": "9e3e766e-e92e-4b14-a1b6-95e2aee8c8e4",
   "metadata": {},
   "outputs": [
    {
     "name": "stdout",
     "output_type": "stream",
     "text": [
      "313/313 [==============================] - 6s 17ms/step\n",
      "313/313 [==============================] - 5s 15ms/step\n",
      "313/313 [==============================] - 4s 13ms/step\n",
      "313/313 [==============================] - 4s 13ms/step\n",
      "313/313 [==============================] - 4s 13ms/step\n",
      "313/313 [==============================] - 4s 14ms/step\n",
      "313/313 [==============================] - 4s 13ms/step\n",
      "313/313 [==============================] - 4s 13ms/step\n",
      "313/313 [==============================] - 4s 13ms/step\n",
      "313/313 [==============================] - 4s 13ms/step\n",
      "313/313 [==============================] - 4s 13ms/step\n",
      "313/313 [==============================] - 4s 14ms/step\n",
      "313/313 [==============================] - 4s 13ms/step\n",
      "313/313 [==============================] - 4s 13ms/step\n",
      "313/313 [==============================] - 4s 13ms/step\n",
      "313/313 [==============================] - 4s 13ms/step\n",
      "313/313 [==============================] - 4s 13ms/step\n",
      "313/313 [==============================] - 4s 13ms/step\n",
      "313/313 [==============================] - 4s 13ms/step\n",
      "313/313 [==============================] - 4s 14ms/step\n",
      "313/313 [==============================] - 4s 13ms/step\n",
      "313/313 [==============================] - 4s 13ms/step\n",
      "313/313 [==============================] - 4s 13ms/step\n",
      "313/313 [==============================] - 4s 14ms/step\n",
      "313/313 [==============================] - 4s 14ms/step\n",
      "313/313 [==============================] - 4s 14ms/step\n",
      "313/313 [==============================] - 4s 13ms/step\n",
      "313/313 [==============================] - 4s 14ms/step\n",
      "313/313 [==============================] - 4s 13ms/step\n",
      "313/313 [==============================] - 4s 13ms/step\n",
      "313/313 [==============================] - 4s 14ms/step\n",
      "313/313 [==============================] - 4s 14ms/step\n",
      "313/313 [==============================] - 4s 14ms/step\n",
      "313/313 [==============================] - 4s 13ms/step\n",
      "313/313 [==============================] - 4s 13ms/step\n",
      "313/313 [==============================] - 4s 14ms/step\n",
      "313/313 [==============================] - 4s 14ms/step\n",
      "313/313 [==============================] - 4s 14ms/step\n",
      "313/313 [==============================] - 4s 13ms/step\n",
      "313/313 [==============================] - 4s 13ms/step\n",
      "313/313 [==============================] - 4s 13ms/step\n",
      "313/313 [==============================] - 4s 14ms/step\n",
      "313/313 [==============================] - 4s 13ms/step\n",
      "313/313 [==============================] - 4s 13ms/step\n",
      "313/313 [==============================] - 4s 13ms/step\n",
      "313/313 [==============================] - 4s 13ms/step\n",
      "313/313 [==============================] - 4s 13ms/step\n",
      "313/313 [==============================] - 4s 14ms/step\n",
      "313/313 [==============================] - 4s 14ms/step\n",
      "313/313 [==============================] - 4s 14ms/step\n",
      "313/313 [==============================] - 4s 14ms/step\n",
      "313/313 [==============================] - 4s 13ms/step\n",
      "313/313 [==============================] - 4s 13ms/step\n",
      "313/313 [==============================] - 4s 14ms/step\n",
      "313/313 [==============================] - 4s 14ms/step\n",
      "313/313 [==============================] - 4s 14ms/step\n",
      "313/313 [==============================] - 4s 14ms/step\n",
      "313/313 [==============================] - 4s 13ms/step\n",
      "313/313 [==============================] - 4s 14ms/step\n",
      "313/313 [==============================] - 4s 14ms/step\n",
      "313/313 [==============================] - 4s 14ms/step\n",
      "313/313 [==============================] - 4s 14ms/step\n",
      "313/313 [==============================] - 4s 13ms/step\n",
      "313/313 [==============================] - 4s 13ms/step\n",
      "313/313 [==============================] - 4s 14ms/step\n",
      "313/313 [==============================] - 4s 14ms/step\n",
      "313/313 [==============================] - 4s 14ms/step\n",
      "313/313 [==============================] - 4s 13ms/step\n",
      "313/313 [==============================] - 4s 13ms/step\n",
      "313/313 [==============================] - 4s 13ms/step\n",
      "313/313 [==============================] - 4s 13ms/step\n",
      "313/313 [==============================] - 4s 14ms/step\n",
      "313/313 [==============================] - 4s 13ms/step\n",
      "313/313 [==============================] - 4s 14ms/step\n",
      "313/313 [==============================] - 4s 13ms/step\n",
      "313/313 [==============================] - 4s 13ms/step\n",
      "313/313 [==============================] - 4s 14ms/step\n",
      "313/313 [==============================] - 4s 14ms/step\n",
      "313/313 [==============================] - 4s 14ms/step\n",
      "313/313 [==============================] - 4s 14ms/step\n",
      "313/313 [==============================] - 4s 13ms/step\n",
      "313/313 [==============================] - 4s 13ms/step\n",
      "313/313 [==============================] - 4s 13ms/step\n",
      "313/313 [==============================] - 4s 14ms/step\n",
      "313/313 [==============================] - 4s 14ms/step\n",
      "313/313 [==============================] - 4s 14ms/step\n",
      "313/313 [==============================] - 4s 13ms/step\n",
      "313/313 [==============================] - 4s 13ms/step\n",
      "313/313 [==============================] - 4s 13ms/step\n",
      "313/313 [==============================] - 4s 14ms/step\n",
      "313/313 [==============================] - 5s 14ms/step\n",
      "313/313 [==============================] - 5s 15ms/step\n",
      "313/313 [==============================] - 4s 14ms/step\n",
      "313/313 [==============================] - 5s 15ms/step\n",
      "313/313 [==============================] - 4s 13ms/step\n",
      "313/313 [==============================] - 4s 14ms/step\n",
      "313/313 [==============================] - 4s 14ms/step\n",
      "313/313 [==============================] - 4s 14ms/step\n",
      "313/313 [==============================] - 4s 13ms/step\n",
      "313/313 [==============================] - 4s 13ms/step\n",
      "Test accuracy with MC Dropout: 0.6991\n"
     ]
    }
   ],
   "source": [
    "# Use MC Dropout for improved accuracy without retraining the model\n",
    "n_samples = 100\n",
    "y_probs = np.stack([model.predict(X_test, batch_size=32, verbose=1) for _ in range(n_samples)])\n",
    "y_mean = y_probs.mean(axis=0)\n",
    "y_std = y_probs.std(axis=0)\n",
    "y_pred = np.argmax(y_mean, axis=1)\n",
    "test_acc_mc = (y_pred == y_test.squeeze()).mean()\n",
    "print('Test accuracy with MC Dropout:', test_acc_mc)"
   ]
  },
  {
   "cell_type": "markdown",
   "id": "c8e1b2cd-b84b-4d80-b97f-e51956089d80",
   "metadata": {},
   "source": [
    "Yes, we can see that we achieved slightly better accuracy with MC Dropout (0.6981) compared to alpha dropout (0.6980) without retraining the model. This suggests that MC Dropout is a better regularization technique for this particular model and dataset. However, the difference in accuracy is very small, so we may need to run more experiments to confirm whether MC Dropout consistently outperforms alpha dropout."
   ]
  }
 ],
 "metadata": {
  "kernelspec": {
   "display_name": "Python 3 (ipykernel)",
   "language": "python",
   "name": "python3"
  },
  "language_info": {
   "codemirror_mode": {
    "name": "ipython",
    "version": 3
   },
   "file_extension": ".py",
   "mimetype": "text/x-python",
   "name": "python",
   "nbconvert_exporter": "python",
   "pygments_lexer": "ipython3",
   "version": "3.10.10"
  }
 },
 "nbformat": 4,
 "nbformat_minor": 5
}
